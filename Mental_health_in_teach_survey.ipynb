{
  "nbformat": 4,
  "nbformat_minor": 5,
  "metadata": {
    "kernelspec": {
      "display_name": "Python 3",
      "language": "python",
      "name": "python3"
    },
    "language_info": {
      "codemirror_mode": {
        "name": "ipython",
        "version": 3
      },
      "file_extension": ".py",
      "mimetype": "text/x-python",
      "name": "python",
      "nbconvert_exporter": "python",
      "pygments_lexer": "ipython3",
      "version": "3.8.6"
    },
    "colab": {
      "name": "Mental-health in teach survey ",
      "provenance": [],
      "collapsed_sections": [
        "2g3byipIHRab"
      ]
    }
  },
  "cells": [
    {
      "cell_type": "markdown",
      "metadata": {
        "id": "MTgr-bdIIcoF"
      },
      "source": [
        "# **Mental Health in Tech Survey Project**\n",
        "This dataset contains the following data:\n",
        "\n",
        "**Timestamp**\n",
        "\n",
        "**Age**\n",
        "\n",
        "**Gender**\n",
        "\n",
        "**Country **\n",
        "\n",
        "**state**: If you live in the United States, which state or territory do you live in?\n",
        "\n",
        "**self_employed:** Are you self-employed?\n",
        "\n",
        "**family_history:** Do you have a family history of mental illness?\n",
        "\n",
        "**treatment**: Have you sought treatment for a mental health condition?\n",
        "work_interfere: If you have a mental health condition, do you feel that it interferes with your work?\n",
        "\n",
        "**no_employees:** How many employees does your company or organization have?\n",
        "\n",
        "**remote_work:** Do you work remotely (outside of an office) at least 50% of the time?\n",
        "\n",
        "**tech_company**: Is your employer primarily a tech company/organization?\n",
        "\n",
        "**benefits: **Does your employer provide mental health benefits?\n",
        "\n",
        "**care_options:** Do you know the options for mental health care your employer provides?\n",
        "\n",
        "**wellness_program:** Has your employer ever discussed mental health as part of an employee wellness program?\n",
        "\n",
        "**seek_help:** Does your employer provide resources to learn more about mental health issues and how to seek help?\n",
        "\n",
        "**anonymity:** Is your anonymity protected if you choose to take advantage of mental health or substance abuse treatment resources?\n",
        "leave: How easy is it for you to take medical leave for a mental health condition?\n",
        "\n"
      ],
      "id": "MTgr-bdIIcoF"
    },
    {
      "cell_type": "markdown",
      "metadata": {
        "id": "Iae80VXSJtDf"
      },
      "source": [
        "**mentalhealthconsequence:** Do you think that discussing a mental health issue with your employer would have negative consequences?\n",
        "\n",
        "**physhealthconsequence:** Do you think that discussing a physical health issue with your employer would have negative consequences?\n",
        "\n",
        "**coworkers:** Would you be willing to discuss a mental health issue with your coworkers?\n",
        "\n",
        "**Supervisor:** Would you be willing to discuss a mental health issue with your direct supervisor(s)?\n",
        "\n",
        "**mentalhealthinterview:** Would you bring up a mental health issue with a potential employer in an interview?\n",
        "\n",
        "***physhealthinterview:*** Would you bring up a physical health issue with a potential employer in an interview?\n",
        "\n",
        "**mentalvsphysical:** Do you feel that your employer takes mental health as seriously as physical health?\n",
        "\n",
        "**Observation_consequence:** Have you heard of or observed negative consequences for coworkers with mental health conditions in your workplace?"
      ],
      "id": "Iae80VXSJtDf"
    },
    {
      "cell_type": "markdown",
      "metadata": {
        "id": "AF8eA2_BK-Wi"
      },
      "source": [
        "# **1 DATA COLLECTION**"
      ],
      "id": "AF8eA2_BK-Wi"
    },
    {
      "cell_type": "markdown",
      "metadata": {
        "id": "lXBhIpj9B86x"
      },
      "source": [
        "**Importing the important Libraries**"
      ],
      "id": "lXBhIpj9B86x"
    },
    {
      "cell_type": "code",
      "metadata": {
        "id": "VYwpiCHfJnkW"
      },
      "source": [
        "import numpy as np\n",
        "import pandas as pd\n",
        "import seaborn as sns\n",
        "import matplotlib.pyplot as plt\n",
        "import warnings\n",
        "warnings.simplefilter(action='ignore', category=FutureWarning)"
      ],
      "id": "VYwpiCHfJnkW",
      "execution_count": 1,
      "outputs": []
    },
    {
      "cell_type": "markdown",
      "metadata": {
        "id": "mis23fLyCSVE"
      },
      "source": [
        "Loading Dataset"
      ],
      "id": "mis23fLyCSVE"
    },
    {
      "cell_type": "code",
      "metadata": {
        "colab": {
          "base_uri": "https://localhost:8080/",
          "height": 450
        },
        "id": "coated-female",
        "outputId": "184ecaca-d310-4816-8452-3714e58e64a1"
      },
      "source": [
        "df = pd.read_csv('mental_health.csv')\n",
        "df.head(5)"
      ],
      "id": "coated-female",
      "execution_count": 2,
      "outputs": [
        {
          "output_type": "execute_result",
          "data": {
            "text/html": [
              "<div>\n",
              "<style scoped>\n",
              "    .dataframe tbody tr th:only-of-type {\n",
              "        vertical-align: middle;\n",
              "    }\n",
              "\n",
              "    .dataframe tbody tr th {\n",
              "        vertical-align: top;\n",
              "    }\n",
              "\n",
              "    .dataframe thead th {\n",
              "        text-align: right;\n",
              "    }\n",
              "</style>\n",
              "<table border=\"1\" class=\"dataframe\">\n",
              "  <thead>\n",
              "    <tr style=\"text-align: right;\">\n",
              "      <th></th>\n",
              "      <th>Timestamp</th>\n",
              "      <th>Age</th>\n",
              "      <th>Gender</th>\n",
              "      <th>Country</th>\n",
              "      <th>state</th>\n",
              "      <th>self_employed</th>\n",
              "      <th>family_history</th>\n",
              "      <th>treatment</th>\n",
              "      <th>work_interfere</th>\n",
              "      <th>no_employees</th>\n",
              "      <th>remote_work</th>\n",
              "      <th>tech_company</th>\n",
              "      <th>benefits</th>\n",
              "      <th>care_options</th>\n",
              "      <th>wellness_program</th>\n",
              "      <th>seek_help</th>\n",
              "      <th>anonymity</th>\n",
              "      <th>leave</th>\n",
              "      <th>mental_health_consequence</th>\n",
              "      <th>phys_health_consequence</th>\n",
              "      <th>coworkers</th>\n",
              "      <th>supervisor</th>\n",
              "      <th>mental_health_interview</th>\n",
              "      <th>phys_health_interview</th>\n",
              "      <th>mental_vs_physical</th>\n",
              "      <th>obs_consequence</th>\n",
              "      <th>comments</th>\n",
              "    </tr>\n",
              "  </thead>\n",
              "  <tbody>\n",
              "    <tr>\n",
              "      <th>0</th>\n",
              "      <td>27-08-2014 14:23</td>\n",
              "      <td>27</td>\n",
              "      <td>Male</td>\n",
              "      <td>United States</td>\n",
              "      <td>TN</td>\n",
              "      <td>No</td>\n",
              "      <td>No</td>\n",
              "      <td>No</td>\n",
              "      <td>Sometimes</td>\n",
              "      <td>100-500</td>\n",
              "      <td>No</td>\n",
              "      <td>Yes</td>\n",
              "      <td>Yes</td>\n",
              "      <td>Not sure</td>\n",
              "      <td>Yes</td>\n",
              "      <td>Yes</td>\n",
              "      <td>Don't know</td>\n",
              "      <td>Don't know</td>\n",
              "      <td>Maybe</td>\n",
              "      <td>No</td>\n",
              "      <td>Some of them</td>\n",
              "      <td>Yes</td>\n",
              "      <td>No</td>\n",
              "      <td>Maybe</td>\n",
              "      <td>Don't know</td>\n",
              "      <td>No</td>\n",
              "      <td>The thought of going through my employer direc...</td>\n",
              "    </tr>\n",
              "    <tr>\n",
              "      <th>1</th>\n",
              "      <td>27-08-2014 14:23</td>\n",
              "      <td>25</td>\n",
              "      <td>Male</td>\n",
              "      <td>Canada</td>\n",
              "      <td>NaN</td>\n",
              "      <td>No</td>\n",
              "      <td>No</td>\n",
              "      <td>Yes</td>\n",
              "      <td>Often</td>\n",
              "      <td>Jun-25</td>\n",
              "      <td>Yes</td>\n",
              "      <td>No</td>\n",
              "      <td>Don't know</td>\n",
              "      <td>No</td>\n",
              "      <td>No</td>\n",
              "      <td>Don't know</td>\n",
              "      <td>Don't know</td>\n",
              "      <td>Somewhat difficult</td>\n",
              "      <td>Yes</td>\n",
              "      <td>Maybe</td>\n",
              "      <td>No</td>\n",
              "      <td>No</td>\n",
              "      <td>No</td>\n",
              "      <td>Maybe</td>\n",
              "      <td>Don't know</td>\n",
              "      <td>No</td>\n",
              "      <td>NaN</td>\n",
              "    </tr>\n",
              "    <tr>\n",
              "      <th>2</th>\n",
              "      <td>27-08-2014 14:24</td>\n",
              "      <td>35</td>\n",
              "      <td>male</td>\n",
              "      <td>United States</td>\n",
              "      <td>OR</td>\n",
              "      <td>No</td>\n",
              "      <td>No</td>\n",
              "      <td>Yes</td>\n",
              "      <td>Rarely</td>\n",
              "      <td>100-500</td>\n",
              "      <td>No</td>\n",
              "      <td>Yes</td>\n",
              "      <td>Yes</td>\n",
              "      <td>Not sure</td>\n",
              "      <td>Don't know</td>\n",
              "      <td>Yes</td>\n",
              "      <td>Don't know</td>\n",
              "      <td>Don't know</td>\n",
              "      <td>No</td>\n",
              "      <td>No</td>\n",
              "      <td>Some of them</td>\n",
              "      <td>Yes</td>\n",
              "      <td>No</td>\n",
              "      <td>No</td>\n",
              "      <td>Don't know</td>\n",
              "      <td>No</td>\n",
              "      <td>NaN</td>\n",
              "    </tr>\n",
              "    <tr>\n",
              "      <th>3</th>\n",
              "      <td>27-08-2014 14:25</td>\n",
              "      <td>36</td>\n",
              "      <td>Male</td>\n",
              "      <td>United States</td>\n",
              "      <td>WA</td>\n",
              "      <td>Yes</td>\n",
              "      <td>No</td>\n",
              "      <td>Yes</td>\n",
              "      <td>Never</td>\n",
              "      <td>01-May</td>\n",
              "      <td>No</td>\n",
              "      <td>Yes</td>\n",
              "      <td>No</td>\n",
              "      <td>Yes</td>\n",
              "      <td>No</td>\n",
              "      <td>No</td>\n",
              "      <td>Don't know</td>\n",
              "      <td>Somewhat easy</td>\n",
              "      <td>Maybe</td>\n",
              "      <td>No</td>\n",
              "      <td>Some of them</td>\n",
              "      <td>Yes</td>\n",
              "      <td>No</td>\n",
              "      <td>No</td>\n",
              "      <td>Yes</td>\n",
              "      <td>No</td>\n",
              "      <td>NaN</td>\n",
              "    </tr>\n",
              "    <tr>\n",
              "      <th>4</th>\n",
              "      <td>27-08-2014 14:25</td>\n",
              "      <td>26</td>\n",
              "      <td>Male</td>\n",
              "      <td>United States</td>\n",
              "      <td>CA</td>\n",
              "      <td>No</td>\n",
              "      <td>Yes</td>\n",
              "      <td>Yes</td>\n",
              "      <td>Sometimes</td>\n",
              "      <td>More than 1000</td>\n",
              "      <td>No</td>\n",
              "      <td>Yes</td>\n",
              "      <td>Yes</td>\n",
              "      <td>Not sure</td>\n",
              "      <td>No</td>\n",
              "      <td>Don't know</td>\n",
              "      <td>Don't know</td>\n",
              "      <td>Don't know</td>\n",
              "      <td>Yes</td>\n",
              "      <td>No</td>\n",
              "      <td>No</td>\n",
              "      <td>No</td>\n",
              "      <td>No</td>\n",
              "      <td>No</td>\n",
              "      <td>No</td>\n",
              "      <td>No</td>\n",
              "      <td>NaN</td>\n",
              "    </tr>\n",
              "  </tbody>\n",
              "</table>\n",
              "</div>"
            ],
            "text/plain": [
              "          Timestamp  ...                                           comments\n",
              "0  27-08-2014 14:23  ...  The thought of going through my employer direc...\n",
              "1  27-08-2014 14:23  ...                                                NaN\n",
              "2  27-08-2014 14:24  ...                                                NaN\n",
              "3  27-08-2014 14:25  ...                                                NaN\n",
              "4  27-08-2014 14:25  ...                                                NaN\n",
              "\n",
              "[5 rows x 27 columns]"
            ]
          },
          "metadata": {
            "tags": []
          },
          "execution_count": 2
        }
      ]
    },
    {
      "cell_type": "code",
      "metadata": {
        "colab": {
          "base_uri": "https://localhost:8080/"
        },
        "id": "polished-stable",
        "outputId": "917310bb-80b4-4cfb-c0f9-674bc1a83f7d"
      },
      "source": [
        "df.info()"
      ],
      "id": "polished-stable",
      "execution_count": 3,
      "outputs": [
        {
          "output_type": "stream",
          "text": [
            "<class 'pandas.core.frame.DataFrame'>\n",
            "RangeIndex: 899 entries, 0 to 898\n",
            "Data columns (total 27 columns):\n",
            " #   Column                     Non-Null Count  Dtype \n",
            "---  ------                     --------------  ----- \n",
            " 0   Timestamp                  899 non-null    object\n",
            " 1   Age                        899 non-null    int64 \n",
            " 2   Gender                     899 non-null    object\n",
            " 3   Country                    899 non-null    object\n",
            " 4   state                      535 non-null    object\n",
            " 5   self_employed              899 non-null    object\n",
            " 6   family_history             899 non-null    object\n",
            " 7   treatment                  899 non-null    object\n",
            " 8   work_interfere             711 non-null    object\n",
            " 9   no_employees               899 non-null    object\n",
            " 10  remote_work                899 non-null    object\n",
            " 11  tech_company               899 non-null    object\n",
            " 12  benefits                   899 non-null    object\n",
            " 13  care_options               899 non-null    object\n",
            " 14  wellness_program           899 non-null    object\n",
            " 15  seek_help                  899 non-null    object\n",
            " 16  anonymity                  899 non-null    object\n",
            " 17  leave                      899 non-null    object\n",
            " 18  mental_health_consequence  899 non-null    object\n",
            " 19  phys_health_consequence    899 non-null    object\n",
            " 20  coworkers                  899 non-null    object\n",
            " 21  supervisor                 899 non-null    object\n",
            " 22  mental_health_interview    899 non-null    object\n",
            " 23  phys_health_interview      899 non-null    object\n",
            " 24  mental_vs_physical         899 non-null    object\n",
            " 25  obs_consequence            899 non-null    object\n",
            " 26  comments                   114 non-null    object\n",
            "dtypes: int64(1), object(26)\n",
            "memory usage: 189.8+ KB\n"
          ],
          "name": "stdout"
        }
      ]
    },
    {
      "cell_type": "markdown",
      "metadata": {
        "id": "jiwQ1ZJoCfQZ"
      },
      "source": [
        "\n",
        "\n",
        "1. here clearly we can see that apart from the 'Age' columns, all columns are in catrgoircal type.\n",
        "2. latter we will convert them into numeric form.\n",
        "\n"
      ],
      "id": "jiwQ1ZJoCfQZ"
    },
    {
      "cell_type": "markdown",
      "metadata": {
        "id": "BvoOtm5TC-xP"
      },
      "source": [
        "**Cheking shape of DATASET**"
      ],
      "id": "BvoOtm5TC-xP"
    },
    {
      "cell_type": "code",
      "metadata": {
        "colab": {
          "base_uri": "https://localhost:8080/"
        },
        "id": "individual-blair",
        "outputId": "c454696b-87a5-4caa-f35e-454904879a36"
      },
      "source": [
        "df.shape"
      ],
      "id": "individual-blair",
      "execution_count": 4,
      "outputs": [
        {
          "output_type": "execute_result",
          "data": {
            "text/plain": [
              "(899, 27)"
            ]
          },
          "metadata": {
            "tags": []
          },
          "execution_count": 4
        }
      ]
    },
    {
      "cell_type": "markdown",
      "metadata": {
        "id": "uAG5h6omLf2X"
      },
      "source": [
        "here we have 900 samples with 27 features."
      ],
      "id": "uAG5h6omLf2X"
    },
    {
      "cell_type": "markdown",
      "metadata": {
        "id": "DSyj3OebLoHM"
      },
      "source": [
        "# **2 DATA CLEANING**"
      ],
      "id": "DSyj3OebLoHM"
    },
    {
      "cell_type": "markdown",
      "metadata": {
        "id": "TVJnsV7nLwhn"
      },
      "source": [
        "cheking the missing values"
      ],
      "id": "TVJnsV7nLwhn"
    },
    {
      "cell_type": "code",
      "metadata": {
        "colab": {
          "base_uri": "https://localhost:8080/"
        },
        "id": "dirty-desert",
        "outputId": "1ebe03dd-2a11-4e17-e1c8-290c124b7e97"
      },
      "source": [
        "df.isnull().sum()"
      ],
      "id": "dirty-desert",
      "execution_count": 5,
      "outputs": [
        {
          "output_type": "execute_result",
          "data": {
            "text/plain": [
              "Timestamp                      0\n",
              "Age                            0\n",
              "Gender                         0\n",
              "Country                        0\n",
              "state                        364\n",
              "self_employed                  0\n",
              "family_history                 0\n",
              "treatment                      0\n",
              "work_interfere               188\n",
              "no_employees                   0\n",
              "remote_work                    0\n",
              "tech_company                   0\n",
              "benefits                       0\n",
              "care_options                   0\n",
              "wellness_program               0\n",
              "seek_help                      0\n",
              "anonymity                      0\n",
              "leave                          0\n",
              "mental_health_consequence      0\n",
              "phys_health_consequence        0\n",
              "coworkers                      0\n",
              "supervisor                     0\n",
              "mental_health_interview        0\n",
              "phys_health_interview          0\n",
              "mental_vs_physical             0\n",
              "obs_consequence                0\n",
              "comments                     785\n",
              "dtype: int64"
            ]
          },
          "metadata": {
            "tags": []
          },
          "execution_count": 5
        }
      ]
    },
    {
      "cell_type": "code",
      "metadata": {
        "id": "aboriginal-bearing"
      },
      "source": [
        "data = df.drop(['comments','Timestamp','state'], axis = 1)"
      ],
      "id": "aboriginal-bearing",
      "execution_count": 6,
      "outputs": []
    },
    {
      "cell_type": "code",
      "metadata": {
        "colab": {
          "base_uri": "https://localhost:8080/"
        },
        "id": "palestinian-fleece",
        "outputId": "a51bb2a8-6547-4346-fe29-1873b7b3d79e"
      },
      "source": [
        "\n",
        "data['self_employed'].unique()"
      ],
      "id": "palestinian-fleece",
      "execution_count": 7,
      "outputs": [
        {
          "output_type": "execute_result",
          "data": {
            "text/plain": [
              "array(['No', 'Yes'], dtype=object)"
            ]
          },
          "metadata": {
            "tags": []
          },
          "execution_count": 7
        }
      ]
    },
    {
      "cell_type": "code",
      "metadata": {
        "colab": {
          "base_uri": "https://localhost:8080/"
        },
        "id": "dynamic-hamburg",
        "outputId": "34136d58-85e3-44af-c2e3-e04c235799d9"
      },
      "source": [
        "data['work_interfere'].fillna('Sometimes', inplace = True)\n",
        "data['work_interfere'].unique()\n",
        "\n"
      ],
      "id": "dynamic-hamburg",
      "execution_count": 8,
      "outputs": [
        {
          "output_type": "execute_result",
          "data": {
            "text/plain": [
              "array(['Sometimes', 'Often', 'Rarely', 'Never'], dtype=object)"
            ]
          },
          "metadata": {
            "tags": []
          },
          "execution_count": 8
        }
      ]
    },
    {
      "cell_type": "code",
      "metadata": {
        "colab": {
          "base_uri": "https://localhost:8080/"
        },
        "id": "mysterious-hotel",
        "outputId": "5c3656db-8071-4e54-d4e5-2ab42feb6adb"
      },
      "source": [
        "data.isnull().sum()"
      ],
      "id": "mysterious-hotel",
      "execution_count": 9,
      "outputs": [
        {
          "output_type": "execute_result",
          "data": {
            "text/plain": [
              "Age                          0\n",
              "Gender                       0\n",
              "Country                      0\n",
              "self_employed                0\n",
              "family_history               0\n",
              "treatment                    0\n",
              "work_interfere               0\n",
              "no_employees                 0\n",
              "remote_work                  0\n",
              "tech_company                 0\n",
              "benefits                     0\n",
              "care_options                 0\n",
              "wellness_program             0\n",
              "seek_help                    0\n",
              "anonymity                    0\n",
              "leave                        0\n",
              "mental_health_consequence    0\n",
              "phys_health_consequence      0\n",
              "coworkers                    0\n",
              "supervisor                   0\n",
              "mental_health_interview      0\n",
              "phys_health_interview        0\n",
              "mental_vs_physical           0\n",
              "obs_consequence              0\n",
              "dtype: int64"
            ]
          },
          "metadata": {
            "tags": []
          },
          "execution_count": 9
        }
      ]
    },
    {
      "cell_type": "markdown",
      "metadata": {
        "id": "hY4UIrj_DQoc"
      },
      "source": [
        "**Treatment of Gender columns**"
      ],
      "id": "hY4UIrj_DQoc"
    },
    {
      "cell_type": "code",
      "metadata": {
        "colab": {
          "base_uri": "https://localhost:8080/"
        },
        "id": "killing-report",
        "outputId": "a89fd133-9d45-45d5-af1b-7e5c58687030"
      },
      "source": [
        "data['Gender']=[m.lower() for m in data['Gender']]\n",
        "data['Gender'].value_counts()"
      ],
      "id": "killing-report",
      "execution_count": 10,
      "outputs": [
        {
          "output_type": "execute_result",
          "data": {
            "text/plain": [
              "male                        570\n",
              "female                      135\n",
              "m                           118\n",
              "f                            37\n",
              "make                          4\n",
              "woman                         3\n",
              "male                          2\n",
              "man                           2\n",
              "female (trans)                2\n",
              "female                        2\n",
              "cis male                      2\n",
              "fluid                         1\n",
              "msle                          1\n",
              "non-binary                    1\n",
              "femail                        1\n",
              "trans woman                   1\n",
              "cis-female/femme              1\n",
              "p                             1\n",
              "all                           1\n",
              "androgyne                     1\n",
              "neuter                        1\n",
              "mail                          1\n",
              "genderqueer                   1\n",
              "malr                          1\n",
              "femake                        1\n",
              "agender                       1\n",
              "enby                          1\n",
              "nah                           1\n",
              "queer                         1\n",
              "a little about you            1\n",
              "male leaning androgynous      1\n",
              "guy (-ish) ^_^                1\n",
              "female (cis)                  1\n",
              "Name: Gender, dtype: int64"
            ]
          },
          "metadata": {
            "tags": []
          },
          "execution_count": 10
        }
      ]
    },
    {
      "cell_type": "markdown",
      "metadata": {
        "id": "JxRrgNpWD9m4"
      },
      "source": [
        "\n",
        "\n",
        "1.   We have a majority of males in our dataset compared to females and other categories.\n",
        "\n",
        "\n"
      ],
      "id": "JxRrgNpWD9m4"
    },
    {
      "cell_type": "code",
      "metadata": {
        "id": "combined-memory"
      },
      "source": [
        "male_str = [\"male\", \"m\", \"male-ish\", \"maile\", \"mal\", \"male (cis)\", \"make\", \"male \", \"man\",\"msle\",\n",
        "            \"mail\", \"malr\",\"cis man\", \"Cis Male\", \"cis male\"]\n",
        "\n",
        "\n",
        "trans_str = [\"trans-female\", \"something kinda male?\", \"queer/she/they\", \"non-binary\",\"nah\", \"all\",\n",
        "             \"enby\", \"fluid\", \"genderqueer\", \"androgyne\", \"agender\", \"male leaning androgynous\", \"guy (-ish) ^_^\",\n",
        "             \"trans woman\", \"neuter\", \"female (trans)\", \"queer\", \"ostensibly male, unsure what that really means\"]           \n",
        "\n",
        "female_str = [\"cis female\", \"f\", \"female\", \"woman\",  \"femake\", \"female \",\"cis-female/femme\", \"female (cis)\", \"femail\"]\n"
      ],
      "id": "combined-memory",
      "execution_count": 11,
      "outputs": []
    },
    {
      "cell_type": "code",
      "metadata": {
        "id": "weighted-soviet"
      },
      "source": [
        "for (row,col) in data.iterrows():\n",
        "    if str.lower(col.Gender) in male_str:\n",
        "        data['Gender'].replace(to_replace=col.Gender, value='male', inplace=True)\n",
        "    \n",
        "    elif str.lower(col.Gender) in female_str:\n",
        "        data['Gender'].replace(to_replace = col.Gender, value = 'female', inplace = True)\n",
        "        \n",
        "    elif str.lower(col.Gender) in trans_str:\n",
        "        data[\"Gender\"].replace(to_replace = col.Gender, value = 'trans', inplace = True)\n",
        "        \n",
        "    else:\n",
        "        pass\n",
        "    "
      ],
      "id": "weighted-soviet",
      "execution_count": 12,
      "outputs": []
    },
    {
      "cell_type": "code",
      "metadata": {
        "colab": {
          "base_uri": "https://localhost:8080/"
        },
        "id": "democratic-verification",
        "outputId": "4c106ab0-436d-4c05-f9de-ca8483366794"
      },
      "source": [
        "data['Gender']=[m.lower() for m in data['Gender']]\n",
        "data['Gender'].value_counts()"
      ],
      "id": "democratic-verification",
      "execution_count": 13,
      "outputs": [
        {
          "output_type": "execute_result",
          "data": {
            "text/plain": [
              "male                  701\n",
              "female                181\n",
              "trans                  15\n",
              "a little about you      1\n",
              "p                       1\n",
              "Name: Gender, dtype: int64"
            ]
          },
          "metadata": {
            "tags": []
          },
          "execution_count": 13
        }
      ]
    },
    {
      "cell_type": "code",
      "metadata": {
        "id": "electrical-spotlight"
      },
      "source": [
        "stk_list = ['a little about you', 'p']\n",
        "data = data[~data['Gender'].isin(stk_list)]"
      ],
      "id": "electrical-spotlight",
      "execution_count": 14,
      "outputs": []
    },
    {
      "cell_type": "code",
      "metadata": {
        "colab": {
          "base_uri": "https://localhost:8080/"
        },
        "id": "powerful-energy",
        "outputId": "2df9b71b-1429-4eb1-b323-70f9c90c7c37"
      },
      "source": [
        "data['Gender'].unique()"
      ],
      "id": "powerful-energy",
      "execution_count": 15,
      "outputs": [
        {
          "output_type": "execute_result",
          "data": {
            "text/plain": [
              "array(['male', 'female', 'trans'], dtype=object)"
            ]
          },
          "metadata": {
            "tags": []
          },
          "execution_count": 15
        }
      ]
    },
    {
      "cell_type": "code",
      "metadata": {
        "colab": {
          "base_uri": "https://localhost:8080/"
        },
        "id": "supposed-brush",
        "outputId": "21863ac9-d897-44e2-b861-a0edf93db147"
      },
      "source": [
        "data.shape"
      ],
      "id": "supposed-brush",
      "execution_count": 16,
      "outputs": [
        {
          "output_type": "execute_result",
          "data": {
            "text/plain": [
              "(897, 24)"
            ]
          },
          "metadata": {
            "tags": []
          },
          "execution_count": 16
        }
      ]
    },
    {
      "cell_type": "markdown",
      "metadata": {
        "id": "na7MxMYvEu_r"
      },
      "source": [
        "**Tretment of Age columns**"
      ],
      "id": "na7MxMYvEu_r"
    },
    {
      "cell_type": "code",
      "metadata": {
        "colab": {
          "base_uri": "https://localhost:8080/"
        },
        "id": "raising-ottawa",
        "outputId": "319651b8-c8be-459b-fb34-c2aec64dffeb"
      },
      "source": [
        "data['Age'].unique()"
      ],
      "id": "raising-ottawa",
      "execution_count": 17,
      "outputs": [
        {
          "output_type": "execute_result",
          "data": {
            "text/plain": [
              "array([         27,          25,          35,          36,          26,\n",
              "                30,          29,          22,          41,          32,\n",
              "                24,          33,          31,          45,          46,\n",
              "                23,          54,          34,         329,          28,\n",
              "                21,          55,          42, 99999999999,          40,\n",
              "                48,          20,          39,          37,          43,\n",
              "                38,          57,          58,          18,          47,\n",
              "                62,          51,          65,          50,          19,\n",
              "                56,          49,       -1726,           5,          44,\n",
              "                53,          61,          11,          72])"
            ]
          },
          "metadata": {
            "tags": []
          },
          "execution_count": 17
        }
      ]
    },
    {
      "cell_type": "code",
      "metadata": {
        "colab": {
          "base_uri": "https://localhost:8080/",
          "height": 296
        },
        "id": "finite-scout",
        "outputId": "bd5f4c62-375a-421e-8c85-8b96f268419c"
      },
      "source": [
        "sns.boxplot(data['Age'])"
      ],
      "id": "finite-scout",
      "execution_count": 18,
      "outputs": [
        {
          "output_type": "execute_result",
          "data": {
            "text/plain": [
              "<matplotlib.axes._subplots.AxesSubplot at 0x7fdd18848b10>"
            ]
          },
          "metadata": {
            "tags": []
          },
          "execution_count": 18
        },
        {
          "output_type": "display_data",
          "data": {
            "image/png": "[encoded data removed]",
            "text/plain": [
              "<Figure size 432x288 with 1 Axes>"
            ]
          },
          "metadata": {
            "tags": [],
            "needs_background": "light"
          }
        }
      ]
    },
    {
      "cell_type": "code",
      "metadata": {
        "id": "quiet-hollywood"
      },
      "source": [
        "data.drop(data[data['Age'] < 0].index, inplace = True) \n",
        "data.drop(data[data['Age'] > 100].index, inplace = True) "
      ],
      "id": "quiet-hollywood",
      "execution_count": 19,
      "outputs": []
    },
    {
      "cell_type": "code",
      "metadata": {
        "colab": {
          "base_uri": "https://localhost:8080/",
          "height": 296
        },
        "id": "cardiac-density",
        "outputId": "d5817763-948a-4972-aba4-09e936198eed"
      },
      "source": [
        "sns.boxplot(data['Age'])"
      ],
      "id": "cardiac-density",
      "execution_count": 20,
      "outputs": [
        {
          "output_type": "execute_result",
          "data": {
            "text/plain": [
              "<matplotlib.axes._subplots.AxesSubplot at 0x7fdd18379bd0>"
            ]
          },
          "metadata": {
            "tags": []
          },
          "execution_count": 20
        },
        {
          "output_type": "display_data",
          "data": {
            "image/png": "[encoded data removed]",
            "text/plain": [
              "<Figure size 432x288 with 1 Axes>"
            ]
          },
          "metadata": {
            "tags": [],
            "needs_background": "light"
          }
        }
      ]
    },
    {
      "cell_type": "markdown",
      "metadata": {
        "id": "gZHxzsycFAta"
      },
      "source": [
        "# **DATA ENCODING**"
      ],
      "id": "gZHxzsycFAta"
    },
    {
      "cell_type": "code",
      "metadata": {
        "id": "adult-wednesday"
      },
      "source": [
        "from sklearn.preprocessing import LabelEncoder, OneHotEncoder\n",
        "data_ = data.iloc[:,1:]\n",
        "encoded_data = data_.apply(LabelEncoder().fit_transform)"
      ],
      "id": "adult-wednesday",
      "execution_count": 21,
      "outputs": []
    },
    {
      "cell_type": "code",
      "metadata": {
        "id": "meaningful-plaza"
      },
      "source": [
        "fin_encoded_data = pd.concat([data['Age'],encoded_data], axis = 1)"
      ],
      "id": "meaningful-plaza",
      "execution_count": 22,
      "outputs": []
    },
    {
      "cell_type": "code",
      "metadata": {
        "colab": {
          "base_uri": "https://localhost:8080/",
          "height": 215
        },
        "id": "fifty-policy",
        "outputId": "11b4d343-8fb6-4d17-d273-5fe192c0f754"
      },
      "source": [
        "fin_encoded_data.head()"
      ],
      "id": "fifty-policy",
      "execution_count": 23,
      "outputs": [
        {
          "output_type": "execute_result",
          "data": {
            "text/html": [
              "<div>\n",
              "<style scoped>\n",
              "    .dataframe tbody tr th:only-of-type {\n",
              "        vertical-align: middle;\n",
              "    }\n",
              "\n",
              "    .dataframe tbody tr th {\n",
              "        vertical-align: top;\n",
              "    }\n",
              "\n",
              "    .dataframe thead th {\n",
              "        text-align: right;\n",
              "    }\n",
              "</style>\n",
              "<table border=\"1\" class=\"dataframe\">\n",
              "  <thead>\n",
              "    <tr style=\"text-align: right;\">\n",
              "      <th></th>\n",
              "      <th>Age</th>\n",
              "      <th>Gender</th>\n",
              "      <th>Country</th>\n",
              "      <th>self_employed</th>\n",
              "      <th>family_history</th>\n",
              "      <th>treatment</th>\n",
              "      <th>work_interfere</th>\n",
              "      <th>no_employees</th>\n",
              "      <th>remote_work</th>\n",
              "      <th>tech_company</th>\n",
              "      <th>benefits</th>\n",
              "      <th>care_options</th>\n",
              "      <th>wellness_program</th>\n",
              "      <th>seek_help</th>\n",
              "      <th>anonymity</th>\n",
              "      <th>leave</th>\n",
              "      <th>mental_health_consequence</th>\n",
              "      <th>phys_health_consequence</th>\n",
              "      <th>coworkers</th>\n",
              "      <th>supervisor</th>\n",
              "      <th>mental_health_interview</th>\n",
              "      <th>phys_health_interview</th>\n",
              "      <th>mental_vs_physical</th>\n",
              "      <th>obs_consequence</th>\n",
              "    </tr>\n",
              "  </thead>\n",
              "  <tbody>\n",
              "    <tr>\n",
              "      <th>0</th>\n",
              "      <td>27</td>\n",
              "      <td>1</td>\n",
              "      <td>39</td>\n",
              "      <td>0</td>\n",
              "      <td>0</td>\n",
              "      <td>0</td>\n",
              "      <td>3</td>\n",
              "      <td>1</td>\n",
              "      <td>0</td>\n",
              "      <td>1</td>\n",
              "      <td>2</td>\n",
              "      <td>1</td>\n",
              "      <td>2</td>\n",
              "      <td>2</td>\n",
              "      <td>0</td>\n",
              "      <td>0</td>\n",
              "      <td>0</td>\n",
              "      <td>1</td>\n",
              "      <td>1</td>\n",
              "      <td>2</td>\n",
              "      <td>1</td>\n",
              "      <td>0</td>\n",
              "      <td>0</td>\n",
              "      <td>0</td>\n",
              "    </tr>\n",
              "    <tr>\n",
              "      <th>1</th>\n",
              "      <td>25</td>\n",
              "      <td>1</td>\n",
              "      <td>6</td>\n",
              "      <td>0</td>\n",
              "      <td>0</td>\n",
              "      <td>1</td>\n",
              "      <td>1</td>\n",
              "      <td>4</td>\n",
              "      <td>1</td>\n",
              "      <td>0</td>\n",
              "      <td>0</td>\n",
              "      <td>0</td>\n",
              "      <td>1</td>\n",
              "      <td>0</td>\n",
              "      <td>0</td>\n",
              "      <td>1</td>\n",
              "      <td>2</td>\n",
              "      <td>0</td>\n",
              "      <td>0</td>\n",
              "      <td>0</td>\n",
              "      <td>1</td>\n",
              "      <td>0</td>\n",
              "      <td>0</td>\n",
              "      <td>0</td>\n",
              "    </tr>\n",
              "    <tr>\n",
              "      <th>2</th>\n",
              "      <td>35</td>\n",
              "      <td>1</td>\n",
              "      <td>39</td>\n",
              "      <td>0</td>\n",
              "      <td>0</td>\n",
              "      <td>1</td>\n",
              "      <td>2</td>\n",
              "      <td>1</td>\n",
              "      <td>0</td>\n",
              "      <td>1</td>\n",
              "      <td>2</td>\n",
              "      <td>1</td>\n",
              "      <td>0</td>\n",
              "      <td>2</td>\n",
              "      <td>0</td>\n",
              "      <td>0</td>\n",
              "      <td>1</td>\n",
              "      <td>1</td>\n",
              "      <td>1</td>\n",
              "      <td>2</td>\n",
              "      <td>1</td>\n",
              "      <td>1</td>\n",
              "      <td>0</td>\n",
              "      <td>0</td>\n",
              "    </tr>\n",
              "    <tr>\n",
              "      <th>3</th>\n",
              "      <td>36</td>\n",
              "      <td>1</td>\n",
              "      <td>39</td>\n",
              "      <td>1</td>\n",
              "      <td>0</td>\n",
              "      <td>1</td>\n",
              "      <td>0</td>\n",
              "      <td>0</td>\n",
              "      <td>0</td>\n",
              "      <td>1</td>\n",
              "      <td>1</td>\n",
              "      <td>2</td>\n",
              "      <td>1</td>\n",
              "      <td>1</td>\n",
              "      <td>0</td>\n",
              "      <td>2</td>\n",
              "      <td>0</td>\n",
              "      <td>1</td>\n",
              "      <td>1</td>\n",
              "      <td>2</td>\n",
              "      <td>1</td>\n",
              "      <td>1</td>\n",
              "      <td>2</td>\n",
              "      <td>0</td>\n",
              "    </tr>\n",
              "    <tr>\n",
              "      <th>4</th>\n",
              "      <td>26</td>\n",
              "      <td>1</td>\n",
              "      <td>39</td>\n",
              "      <td>0</td>\n",
              "      <td>1</td>\n",
              "      <td>1</td>\n",
              "      <td>3</td>\n",
              "      <td>5</td>\n",
              "      <td>0</td>\n",
              "      <td>1</td>\n",
              "      <td>2</td>\n",
              "      <td>1</td>\n",
              "      <td>1</td>\n",
              "      <td>0</td>\n",
              "      <td>0</td>\n",
              "      <td>0</td>\n",
              "      <td>2</td>\n",
              "      <td>1</td>\n",
              "      <td>0</td>\n",
              "      <td>0</td>\n",
              "      <td>1</td>\n",
              "      <td>1</td>\n",
              "      <td>1</td>\n",
              "      <td>0</td>\n",
              "    </tr>\n",
              "  </tbody>\n",
              "</table>\n",
              "</div>"
            ],
            "text/plain": [
              "   Age  Gender  ...  mental_vs_physical  obs_consequence\n",
              "0   27       1  ...                   0                0\n",
              "1   25       1  ...                   0                0\n",
              "2   35       1  ...                   0                0\n",
              "3   36       1  ...                   2                0\n",
              "4   26       1  ...                   1                0\n",
              "\n",
              "[5 rows x 24 columns]"
            ]
          },
          "metadata": {
            "tags": []
          },
          "execution_count": 23
        }
      ]
    },
    {
      "cell_type": "markdown",
      "metadata": {
        "id": "YwDTjtdzL-sO"
      },
      "source": [
        "**Summary of Dataframe**"
      ],
      "id": "YwDTjtdzL-sO"
    },
    {
      "cell_type": "code",
      "metadata": {
        "id": "certain-satin"
      },
      "source": [
        "country = data.groupby(data['Country'])"
      ],
      "id": "certain-satin",
      "execution_count": 24,
      "outputs": []
    },
    {
      "cell_type": "code",
      "metadata": {
        "colab": {
          "base_uri": "https://localhost:8080/"
        },
        "id": "impaired-consultancy",
        "outputId": "4c1c659c-0def-4865-e270-9f0be59bb4a2"
      },
      "source": [
        "country['Age'].median().sort_values()"
      ],
      "id": "impaired-consultancy",
      "execution_count": 25,
      "outputs": [
        {
          "output_type": "execute_result",
          "data": {
            "text/plain": [
              "Country\n",
              "Georgia                   20.0\n",
              "India                     23.0\n",
              "Austria                   24.0\n",
              "Bosnia and Herzegovina    25.0\n",
              "Nigeria                   25.0\n",
              "Uruguay                   26.0\n",
              "Russia                    26.0\n",
              "Moldova                   26.0\n",
              "Colombia                  26.0\n",
              "Israel                    26.0\n",
              "Finland                   26.0\n",
              "Hungary                   27.0\n",
              "Sweden                    28.0\n",
              "Brazil                    28.0\n",
              "Australia                 28.5\n",
              "Canada                    29.0\n",
              "France                    29.0\n",
              "Latvia                    29.0\n",
              "Bulgaria                  29.0\n",
              "Romania                   29.0\n",
              "Switzerland               30.0\n",
              "Belgium                   30.0\n",
              "Spain                     30.0\n",
              "Singapore                 30.0\n",
              "New Zealand               30.0\n",
              "Germany                   30.0\n",
              "South Africa              31.0\n",
              "United Kingdom            32.0\n",
              "United States             32.0\n",
              "Italy                     33.0\n",
              "Norway                    33.0\n",
              "Netherlands               34.0\n",
              "Ireland                   34.0\n",
              "Poland                    34.0\n",
              "Greece                    34.0\n",
              "Denmark                   35.0\n",
              "Croatia                   38.0\n",
              "China                     40.0\n",
              "Thailand                  40.0\n",
              "Mexico                    43.0\n",
              "Japan                     49.0\n",
              "Name: Age, dtype: float64"
            ]
          },
          "metadata": {
            "tags": []
          },
          "execution_count": 25
        }
      ]
    },
    {
      "cell_type": "code",
      "metadata": {
        "colab": {
          "base_uri": "https://localhost:8080/",
          "height": 1000
        },
        "id": "terminal-rugby",
        "outputId": "5ce24415-6eb4-4516-90be-d31174af983e"
      },
      "source": [
        "country['treatment','remote_work','self_employed'].describe()"
      ],
      "id": "terminal-rugby",
      "execution_count": 26,
      "outputs": [
        {
          "output_type": "execute_result",
          "data": {
            "text/html": [
              "<div>\n",
              "<style scoped>\n",
              "    .dataframe tbody tr th:only-of-type {\n",
              "        vertical-align: middle;\n",
              "    }\n",
              "\n",
              "    .dataframe tbody tr th {\n",
              "        vertical-align: top;\n",
              "    }\n",
              "\n",
              "    .dataframe thead tr th {\n",
              "        text-align: left;\n",
              "    }\n",
              "\n",
              "    .dataframe thead tr:last-of-type th {\n",
              "        text-align: right;\n",
              "    }\n",
              "</style>\n",
              "<table border=\"1\" class=\"dataframe\">\n",
              "  <thead>\n",
              "    <tr>\n",
              "      <th></th>\n",
              "      <th colspan=\"4\" halign=\"left\">treatment</th>\n",
              "      <th colspan=\"4\" halign=\"left\">remote_work</th>\n",
              "      <th colspan=\"4\" halign=\"left\">self_employed</th>\n",
              "    </tr>\n",
              "    <tr>\n",
              "      <th></th>\n",
              "      <th>count</th>\n",
              "      <th>unique</th>\n",
              "      <th>top</th>\n",
              "      <th>freq</th>\n",
              "      <th>count</th>\n",
              "      <th>unique</th>\n",
              "      <th>top</th>\n",
              "      <th>freq</th>\n",
              "      <th>count</th>\n",
              "      <th>unique</th>\n",
              "      <th>top</th>\n",
              "      <th>freq</th>\n",
              "    </tr>\n",
              "    <tr>\n",
              "      <th>Country</th>\n",
              "      <th></th>\n",
              "      <th></th>\n",
              "      <th></th>\n",
              "      <th></th>\n",
              "      <th></th>\n",
              "      <th></th>\n",
              "      <th></th>\n",
              "      <th></th>\n",
              "      <th></th>\n",
              "      <th></th>\n",
              "      <th></th>\n",
              "      <th></th>\n",
              "    </tr>\n",
              "  </thead>\n",
              "  <tbody>\n",
              "    <tr>\n",
              "      <th>Australia</th>\n",
              "      <td>16</td>\n",
              "      <td>2</td>\n",
              "      <td>Yes</td>\n",
              "      <td>9</td>\n",
              "      <td>16</td>\n",
              "      <td>2</td>\n",
              "      <td>No</td>\n",
              "      <td>11</td>\n",
              "      <td>16</td>\n",
              "      <td>1</td>\n",
              "      <td>No</td>\n",
              "      <td>16</td>\n",
              "    </tr>\n",
              "    <tr>\n",
              "      <th>Austria</th>\n",
              "      <td>1</td>\n",
              "      <td>1</td>\n",
              "      <td>No</td>\n",
              "      <td>1</td>\n",
              "      <td>1</td>\n",
              "      <td>1</td>\n",
              "      <td>No</td>\n",
              "      <td>1</td>\n",
              "      <td>1</td>\n",
              "      <td>1</td>\n",
              "      <td>Yes</td>\n",
              "      <td>1</td>\n",
              "    </tr>\n",
              "    <tr>\n",
              "      <th>Belgium</th>\n",
              "      <td>6</td>\n",
              "      <td>2</td>\n",
              "      <td>No</td>\n",
              "      <td>5</td>\n",
              "      <td>6</td>\n",
              "      <td>1</td>\n",
              "      <td>No</td>\n",
              "      <td>6</td>\n",
              "      <td>6</td>\n",
              "      <td>1</td>\n",
              "      <td>No</td>\n",
              "      <td>6</td>\n",
              "    </tr>\n",
              "    <tr>\n",
              "      <th>Bosnia and Herzegovina</th>\n",
              "      <td>1</td>\n",
              "      <td>1</td>\n",
              "      <td>No</td>\n",
              "      <td>1</td>\n",
              "      <td>1</td>\n",
              "      <td>1</td>\n",
              "      <td>Yes</td>\n",
              "      <td>1</td>\n",
              "      <td>1</td>\n",
              "      <td>1</td>\n",
              "      <td>No</td>\n",
              "      <td>1</td>\n",
              "    </tr>\n",
              "    <tr>\n",
              "      <th>Brazil</th>\n",
              "      <td>5</td>\n",
              "      <td>2</td>\n",
              "      <td>No</td>\n",
              "      <td>4</td>\n",
              "      <td>5</td>\n",
              "      <td>2</td>\n",
              "      <td>No</td>\n",
              "      <td>4</td>\n",
              "      <td>5</td>\n",
              "      <td>2</td>\n",
              "      <td>No</td>\n",
              "      <td>3</td>\n",
              "    </tr>\n",
              "    <tr>\n",
              "      <th>Bulgaria</th>\n",
              "      <td>2</td>\n",
              "      <td>1</td>\n",
              "      <td>Yes</td>\n",
              "      <td>2</td>\n",
              "      <td>2</td>\n",
              "      <td>1</td>\n",
              "      <td>Yes</td>\n",
              "      <td>2</td>\n",
              "      <td>2</td>\n",
              "      <td>1</td>\n",
              "      <td>No</td>\n",
              "      <td>2</td>\n",
              "    </tr>\n",
              "    <tr>\n",
              "      <th>Canada</th>\n",
              "      <td>43</td>\n",
              "      <td>2</td>\n",
              "      <td>Yes</td>\n",
              "      <td>25</td>\n",
              "      <td>43</td>\n",
              "      <td>2</td>\n",
              "      <td>No</td>\n",
              "      <td>27</td>\n",
              "      <td>43</td>\n",
              "      <td>2</td>\n",
              "      <td>No</td>\n",
              "      <td>36</td>\n",
              "    </tr>\n",
              "    <tr>\n",
              "      <th>China</th>\n",
              "      <td>1</td>\n",
              "      <td>1</td>\n",
              "      <td>No</td>\n",
              "      <td>1</td>\n",
              "      <td>1</td>\n",
              "      <td>1</td>\n",
              "      <td>Yes</td>\n",
              "      <td>1</td>\n",
              "      <td>1</td>\n",
              "      <td>1</td>\n",
              "      <td>Yes</td>\n",
              "      <td>1</td>\n",
              "    </tr>\n",
              "    <tr>\n",
              "      <th>Colombia</th>\n",
              "      <td>1</td>\n",
              "      <td>1</td>\n",
              "      <td>No</td>\n",
              "      <td>1</td>\n",
              "      <td>1</td>\n",
              "      <td>1</td>\n",
              "      <td>No</td>\n",
              "      <td>1</td>\n",
              "      <td>1</td>\n",
              "      <td>1</td>\n",
              "      <td>No</td>\n",
              "      <td>1</td>\n",
              "    </tr>\n",
              "    <tr>\n",
              "      <th>Croatia</th>\n",
              "      <td>2</td>\n",
              "      <td>1</td>\n",
              "      <td>Yes</td>\n",
              "      <td>2</td>\n",
              "      <td>2</td>\n",
              "      <td>1</td>\n",
              "      <td>Yes</td>\n",
              "      <td>2</td>\n",
              "      <td>2</td>\n",
              "      <td>2</td>\n",
              "      <td>No</td>\n",
              "      <td>1</td>\n",
              "    </tr>\n",
              "    <tr>\n",
              "      <th>Denmark</th>\n",
              "      <td>2</td>\n",
              "      <td>1</td>\n",
              "      <td>Yes</td>\n",
              "      <td>2</td>\n",
              "      <td>2</td>\n",
              "      <td>1</td>\n",
              "      <td>No</td>\n",
              "      <td>2</td>\n",
              "      <td>2</td>\n",
              "      <td>1</td>\n",
              "      <td>Yes</td>\n",
              "      <td>2</td>\n",
              "    </tr>\n",
              "    <tr>\n",
              "      <th>Finland</th>\n",
              "      <td>2</td>\n",
              "      <td>1</td>\n",
              "      <td>No</td>\n",
              "      <td>2</td>\n",
              "      <td>2</td>\n",
              "      <td>2</td>\n",
              "      <td>No</td>\n",
              "      <td>1</td>\n",
              "      <td>2</td>\n",
              "      <td>1</td>\n",
              "      <td>No</td>\n",
              "      <td>2</td>\n",
              "    </tr>\n",
              "    <tr>\n",
              "      <th>France</th>\n",
              "      <td>9</td>\n",
              "      <td>2</td>\n",
              "      <td>No</td>\n",
              "      <td>7</td>\n",
              "      <td>9</td>\n",
              "      <td>2</td>\n",
              "      <td>No</td>\n",
              "      <td>8</td>\n",
              "      <td>9</td>\n",
              "      <td>2</td>\n",
              "      <td>No</td>\n",
              "      <td>8</td>\n",
              "    </tr>\n",
              "    <tr>\n",
              "      <th>Georgia</th>\n",
              "      <td>1</td>\n",
              "      <td>1</td>\n",
              "      <td>No</td>\n",
              "      <td>1</td>\n",
              "      <td>1</td>\n",
              "      <td>1</td>\n",
              "      <td>No</td>\n",
              "      <td>1</td>\n",
              "      <td>1</td>\n",
              "      <td>1</td>\n",
              "      <td>No</td>\n",
              "      <td>1</td>\n",
              "    </tr>\n",
              "    <tr>\n",
              "      <th>Germany</th>\n",
              "      <td>41</td>\n",
              "      <td>2</td>\n",
              "      <td>No</td>\n",
              "      <td>22</td>\n",
              "      <td>41</td>\n",
              "      <td>2</td>\n",
              "      <td>No</td>\n",
              "      <td>27</td>\n",
              "      <td>41</td>\n",
              "      <td>2</td>\n",
              "      <td>No</td>\n",
              "      <td>30</td>\n",
              "    </tr>\n",
              "    <tr>\n",
              "      <th>Greece</th>\n",
              "      <td>1</td>\n",
              "      <td>1</td>\n",
              "      <td>No</td>\n",
              "      <td>1</td>\n",
              "      <td>1</td>\n",
              "      <td>1</td>\n",
              "      <td>Yes</td>\n",
              "      <td>1</td>\n",
              "      <td>1</td>\n",
              "      <td>1</td>\n",
              "      <td>No</td>\n",
              "      <td>1</td>\n",
              "    </tr>\n",
              "    <tr>\n",
              "      <th>Hungary</th>\n",
              "      <td>1</td>\n",
              "      <td>1</td>\n",
              "      <td>No</td>\n",
              "      <td>1</td>\n",
              "      <td>1</td>\n",
              "      <td>1</td>\n",
              "      <td>Yes</td>\n",
              "      <td>1</td>\n",
              "      <td>1</td>\n",
              "      <td>1</td>\n",
              "      <td>Yes</td>\n",
              "      <td>1</td>\n",
              "    </tr>\n",
              "    <tr>\n",
              "      <th>India</th>\n",
              "      <td>8</td>\n",
              "      <td>2</td>\n",
              "      <td>No</td>\n",
              "      <td>6</td>\n",
              "      <td>8</td>\n",
              "      <td>2</td>\n",
              "      <td>No</td>\n",
              "      <td>7</td>\n",
              "      <td>8</td>\n",
              "      <td>2</td>\n",
              "      <td>No</td>\n",
              "      <td>6</td>\n",
              "    </tr>\n",
              "    <tr>\n",
              "      <th>Ireland</th>\n",
              "      <td>15</td>\n",
              "      <td>2</td>\n",
              "      <td>Yes</td>\n",
              "      <td>9</td>\n",
              "      <td>15</td>\n",
              "      <td>2</td>\n",
              "      <td>No</td>\n",
              "      <td>12</td>\n",
              "      <td>15</td>\n",
              "      <td>2</td>\n",
              "      <td>No</td>\n",
              "      <td>11</td>\n",
              "    </tr>\n",
              "    <tr>\n",
              "      <th>Israel</th>\n",
              "      <td>5</td>\n",
              "      <td>1</td>\n",
              "      <td>No</td>\n",
              "      <td>5</td>\n",
              "      <td>5</td>\n",
              "      <td>1</td>\n",
              "      <td>No</td>\n",
              "      <td>5</td>\n",
              "      <td>5</td>\n",
              "      <td>1</td>\n",
              "      <td>No</td>\n",
              "      <td>5</td>\n",
              "    </tr>\n",
              "    <tr>\n",
              "      <th>Italy</th>\n",
              "      <td>6</td>\n",
              "      <td>2</td>\n",
              "      <td>No</td>\n",
              "      <td>5</td>\n",
              "      <td>6</td>\n",
              "      <td>1</td>\n",
              "      <td>No</td>\n",
              "      <td>6</td>\n",
              "      <td>6</td>\n",
              "      <td>1</td>\n",
              "      <td>No</td>\n",
              "      <td>6</td>\n",
              "    </tr>\n",
              "    <tr>\n",
              "      <th>Japan</th>\n",
              "      <td>1</td>\n",
              "      <td>1</td>\n",
              "      <td>Yes</td>\n",
              "      <td>1</td>\n",
              "      <td>1</td>\n",
              "      <td>1</td>\n",
              "      <td>Yes</td>\n",
              "      <td>1</td>\n",
              "      <td>1</td>\n",
              "      <td>1</td>\n",
              "      <td>Yes</td>\n",
              "      <td>1</td>\n",
              "    </tr>\n",
              "    <tr>\n",
              "      <th>Latvia</th>\n",
              "      <td>1</td>\n",
              "      <td>1</td>\n",
              "      <td>No</td>\n",
              "      <td>1</td>\n",
              "      <td>1</td>\n",
              "      <td>1</td>\n",
              "      <td>No</td>\n",
              "      <td>1</td>\n",
              "      <td>1</td>\n",
              "      <td>1</td>\n",
              "      <td>No</td>\n",
              "      <td>1</td>\n",
              "    </tr>\n",
              "    <tr>\n",
              "      <th>Mexico</th>\n",
              "      <td>1</td>\n",
              "      <td>1</td>\n",
              "      <td>No</td>\n",
              "      <td>1</td>\n",
              "      <td>1</td>\n",
              "      <td>1</td>\n",
              "      <td>Yes</td>\n",
              "      <td>1</td>\n",
              "      <td>1</td>\n",
              "      <td>1</td>\n",
              "      <td>Yes</td>\n",
              "      <td>1</td>\n",
              "    </tr>\n",
              "    <tr>\n",
              "      <th>Moldova</th>\n",
              "      <td>1</td>\n",
              "      <td>1</td>\n",
              "      <td>Yes</td>\n",
              "      <td>1</td>\n",
              "      <td>1</td>\n",
              "      <td>1</td>\n",
              "      <td>No</td>\n",
              "      <td>1</td>\n",
              "      <td>1</td>\n",
              "      <td>1</td>\n",
              "      <td>No</td>\n",
              "      <td>1</td>\n",
              "    </tr>\n",
              "    <tr>\n",
              "      <th>Netherlands</th>\n",
              "      <td>20</td>\n",
              "      <td>2</td>\n",
              "      <td>No</td>\n",
              "      <td>12</td>\n",
              "      <td>20</td>\n",
              "      <td>2</td>\n",
              "      <td>No</td>\n",
              "      <td>13</td>\n",
              "      <td>20</td>\n",
              "      <td>2</td>\n",
              "      <td>No</td>\n",
              "      <td>14</td>\n",
              "    </tr>\n",
              "    <tr>\n",
              "      <th>New Zealand</th>\n",
              "      <td>8</td>\n",
              "      <td>2</td>\n",
              "      <td>Yes</td>\n",
              "      <td>5</td>\n",
              "      <td>8</td>\n",
              "      <td>2</td>\n",
              "      <td>No</td>\n",
              "      <td>5</td>\n",
              "      <td>8</td>\n",
              "      <td>1</td>\n",
              "      <td>No</td>\n",
              "      <td>8</td>\n",
              "    </tr>\n",
              "    <tr>\n",
              "      <th>Nigeria</th>\n",
              "      <td>1</td>\n",
              "      <td>1</td>\n",
              "      <td>No</td>\n",
              "      <td>1</td>\n",
              "      <td>1</td>\n",
              "      <td>1</td>\n",
              "      <td>No</td>\n",
              "      <td>1</td>\n",
              "      <td>1</td>\n",
              "      <td>1</td>\n",
              "      <td>No</td>\n",
              "      <td>1</td>\n",
              "    </tr>\n",
              "    <tr>\n",
              "      <th>Norway</th>\n",
              "      <td>1</td>\n",
              "      <td>1</td>\n",
              "      <td>No</td>\n",
              "      <td>1</td>\n",
              "      <td>1</td>\n",
              "      <td>1</td>\n",
              "      <td>No</td>\n",
              "      <td>1</td>\n",
              "      <td>1</td>\n",
              "      <td>1</td>\n",
              "      <td>No</td>\n",
              "      <td>1</td>\n",
              "    </tr>\n",
              "    <tr>\n",
              "      <th>Poland</th>\n",
              "      <td>3</td>\n",
              "      <td>2</td>\n",
              "      <td>No</td>\n",
              "      <td>2</td>\n",
              "      <td>3</td>\n",
              "      <td>2</td>\n",
              "      <td>No</td>\n",
              "      <td>2</td>\n",
              "      <td>3</td>\n",
              "      <td>2</td>\n",
              "      <td>No</td>\n",
              "      <td>2</td>\n",
              "    </tr>\n",
              "    <tr>\n",
              "      <th>Romania</th>\n",
              "      <td>1</td>\n",
              "      <td>1</td>\n",
              "      <td>No</td>\n",
              "      <td>1</td>\n",
              "      <td>1</td>\n",
              "      <td>1</td>\n",
              "      <td>Yes</td>\n",
              "      <td>1</td>\n",
              "      <td>1</td>\n",
              "      <td>1</td>\n",
              "      <td>No</td>\n",
              "      <td>1</td>\n",
              "    </tr>\n",
              "    <tr>\n",
              "      <th>Russia</th>\n",
              "      <td>1</td>\n",
              "      <td>1</td>\n",
              "      <td>No</td>\n",
              "      <td>1</td>\n",
              "      <td>1</td>\n",
              "      <td>1</td>\n",
              "      <td>No</td>\n",
              "      <td>1</td>\n",
              "      <td>1</td>\n",
              "      <td>1</td>\n",
              "      <td>No</td>\n",
              "      <td>1</td>\n",
              "    </tr>\n",
              "    <tr>\n",
              "      <th>Singapore</th>\n",
              "      <td>3</td>\n",
              "      <td>1</td>\n",
              "      <td>No</td>\n",
              "      <td>3</td>\n",
              "      <td>3</td>\n",
              "      <td>2</td>\n",
              "      <td>Yes</td>\n",
              "      <td>2</td>\n",
              "      <td>3</td>\n",
              "      <td>1</td>\n",
              "      <td>No</td>\n",
              "      <td>3</td>\n",
              "    </tr>\n",
              "    <tr>\n",
              "      <th>South Africa</th>\n",
              "      <td>3</td>\n",
              "      <td>2</td>\n",
              "      <td>Yes</td>\n",
              "      <td>2</td>\n",
              "      <td>3</td>\n",
              "      <td>2</td>\n",
              "      <td>Yes</td>\n",
              "      <td>2</td>\n",
              "      <td>3</td>\n",
              "      <td>2</td>\n",
              "      <td>No</td>\n",
              "      <td>2</td>\n",
              "    </tr>\n",
              "    <tr>\n",
              "      <th>Spain</th>\n",
              "      <td>1</td>\n",
              "      <td>1</td>\n",
              "      <td>No</td>\n",
              "      <td>1</td>\n",
              "      <td>1</td>\n",
              "      <td>1</td>\n",
              "      <td>No</td>\n",
              "      <td>1</td>\n",
              "      <td>1</td>\n",
              "      <td>1</td>\n",
              "      <td>No</td>\n",
              "      <td>1</td>\n",
              "    </tr>\n",
              "    <tr>\n",
              "      <th>Sweden</th>\n",
              "      <td>6</td>\n",
              "      <td>2</td>\n",
              "      <td>No</td>\n",
              "      <td>4</td>\n",
              "      <td>6</td>\n",
              "      <td>1</td>\n",
              "      <td>No</td>\n",
              "      <td>6</td>\n",
              "      <td>6</td>\n",
              "      <td>1</td>\n",
              "      <td>No</td>\n",
              "      <td>6</td>\n",
              "    </tr>\n",
              "    <tr>\n",
              "      <th>Switzerland</th>\n",
              "      <td>5</td>\n",
              "      <td>2</td>\n",
              "      <td>Yes</td>\n",
              "      <td>3</td>\n",
              "      <td>5</td>\n",
              "      <td>1</td>\n",
              "      <td>No</td>\n",
              "      <td>5</td>\n",
              "      <td>5</td>\n",
              "      <td>1</td>\n",
              "      <td>No</td>\n",
              "      <td>5</td>\n",
              "    </tr>\n",
              "    <tr>\n",
              "      <th>Thailand</th>\n",
              "      <td>1</td>\n",
              "      <td>1</td>\n",
              "      <td>No</td>\n",
              "      <td>1</td>\n",
              "      <td>1</td>\n",
              "      <td>1</td>\n",
              "      <td>No</td>\n",
              "      <td>1</td>\n",
              "      <td>1</td>\n",
              "      <td>1</td>\n",
              "      <td>Yes</td>\n",
              "      <td>1</td>\n",
              "    </tr>\n",
              "    <tr>\n",
              "      <th>United Kingdom</th>\n",
              "      <td>128</td>\n",
              "      <td>2</td>\n",
              "      <td>Yes</td>\n",
              "      <td>67</td>\n",
              "      <td>128</td>\n",
              "      <td>2</td>\n",
              "      <td>No</td>\n",
              "      <td>98</td>\n",
              "      <td>128</td>\n",
              "      <td>2</td>\n",
              "      <td>No</td>\n",
              "      <td>109</td>\n",
              "    </tr>\n",
              "    <tr>\n",
              "      <th>United States</th>\n",
              "      <td>538</td>\n",
              "      <td>2</td>\n",
              "      <td>Yes</td>\n",
              "      <td>294</td>\n",
              "      <td>538</td>\n",
              "      <td>2</td>\n",
              "      <td>No</td>\n",
              "      <td>376</td>\n",
              "      <td>538</td>\n",
              "      <td>2</td>\n",
              "      <td>No</td>\n",
              "      <td>492</td>\n",
              "    </tr>\n",
              "    <tr>\n",
              "      <th>Uruguay</th>\n",
              "      <td>1</td>\n",
              "      <td>1</td>\n",
              "      <td>No</td>\n",
              "      <td>1</td>\n",
              "      <td>1</td>\n",
              "      <td>1</td>\n",
              "      <td>Yes</td>\n",
              "      <td>1</td>\n",
              "      <td>1</td>\n",
              "      <td>1</td>\n",
              "      <td>No</td>\n",
              "      <td>1</td>\n",
              "    </tr>\n",
              "  </tbody>\n",
              "</table>\n",
              "</div>"
            ],
            "text/plain": [
              "                       treatment              ... self_employed          \n",
              "                           count unique  top  ...        unique  top freq\n",
              "Country                                       ...                        \n",
              "Australia                     16      2  Yes  ...             1   No   16\n",
              "Austria                        1      1   No  ...             1  Yes    1\n",
              "Belgium                        6      2   No  ...             1   No    6\n",
              "Bosnia and Herzegovina         1      1   No  ...             1   No    1\n",
              "Brazil                         5      2   No  ...             2   No    3\n",
              "Bulgaria                       2      1  Yes  ...             1   No    2\n",
              "Canada                        43      2  Yes  ...             2   No   36\n",
              "China                          1      1   No  ...             1  Yes    1\n",
              "Colombia                       1      1   No  ...             1   No    1\n",
              "Croatia                        2      1  Yes  ...             2   No    1\n",
              "Denmark                        2      1  Yes  ...             1  Yes    2\n",
              "Finland                        2      1   No  ...             1   No    2\n",
              "France                         9      2   No  ...             2   No    8\n",
              "Georgia                        1      1   No  ...             1   No    1\n",
              "Germany                       41      2   No  ...             2   No   30\n",
              "Greece                         1      1   No  ...             1   No    1\n",
              "Hungary                        1      1   No  ...             1  Yes    1\n",
              "India                          8      2   No  ...             2   No    6\n",
              "Ireland                       15      2  Yes  ...             2   No   11\n",
              "Israel                         5      1   No  ...             1   No    5\n",
              "Italy                          6      2   No  ...             1   No    6\n",
              "Japan                          1      1  Yes  ...             1  Yes    1\n",
              "Latvia                         1      1   No  ...             1   No    1\n",
              "Mexico                         1      1   No  ...             1  Yes    1\n",
              "Moldova                        1      1  Yes  ...             1   No    1\n",
              "Netherlands                   20      2   No  ...             2   No   14\n",
              "New Zealand                    8      2  Yes  ...             1   No    8\n",
              "Nigeria                        1      1   No  ...             1   No    1\n",
              "Norway                         1      1   No  ...             1   No    1\n",
              "Poland                         3      2   No  ...             2   No    2\n",
              "Romania                        1      1   No  ...             1   No    1\n",
              "Russia                         1      1   No  ...             1   No    1\n",
              "Singapore                      3      1   No  ...             1   No    3\n",
              "South Africa                   3      2  Yes  ...             2   No    2\n",
              "Spain                          1      1   No  ...             1   No    1\n",
              "Sweden                         6      2   No  ...             1   No    6\n",
              "Switzerland                    5      2  Yes  ...             1   No    5\n",
              "Thailand                       1      1   No  ...             1  Yes    1\n",
              "United Kingdom               128      2  Yes  ...             2   No  109\n",
              "United States                538      2  Yes  ...             2   No  492\n",
              "Uruguay                        1      1   No  ...             1   No    1\n",
              "\n",
              "[41 rows x 12 columns]"
            ]
          },
          "metadata": {
            "tags": []
          },
          "execution_count": 26
        }
      ]
    },
    {
      "cell_type": "markdown",
      "metadata": {
        "id": "bX4gxgP6GWcq"
      },
      "source": [
        "\n",
        "\n",
        "1.  from this we find out that countries like united States, Austriallia, and Canada have more sureyed people who undergo a treatment for mental problems.\n",
        "\n",
        "\n"
      ],
      "id": "bX4gxgP6GWcq"
    },
    {
      "cell_type": "markdown",
      "metadata": {
        "id": "NXjzsmPwHN94"
      },
      "source": [
        "**Self_employed VS treatment**"
      ],
      "id": "NXjzsmPwHN94"
    },
    {
      "cell_type": "code",
      "metadata": {
        "colab": {
          "base_uri": "https://localhost:8080/",
          "height": 136
        },
        "id": "accessory-breakfast",
        "outputId": "4f4b6208-50d0-4a45-9b99-612c8f7fc930"
      },
      "source": [
        "s_employ = data.groupby(['self_employed'])\n",
        "s_employ['treatment'].describe()"
      ],
      "id": "accessory-breakfast",
      "execution_count": 27,
      "outputs": [
        {
          "output_type": "execute_result",
          "data": {
            "text/html": [
              "<div>\n",
              "<style scoped>\n",
              "    .dataframe tbody tr th:only-of-type {\n",
              "        vertical-align: middle;\n",
              "    }\n",
              "\n",
              "    .dataframe tbody tr th {\n",
              "        vertical-align: top;\n",
              "    }\n",
              "\n",
              "    .dataframe thead th {\n",
              "        text-align: right;\n",
              "    }\n",
              "</style>\n",
              "<table border=\"1\" class=\"dataframe\">\n",
              "  <thead>\n",
              "    <tr style=\"text-align: right;\">\n",
              "      <th></th>\n",
              "      <th>count</th>\n",
              "      <th>unique</th>\n",
              "      <th>top</th>\n",
              "      <th>freq</th>\n",
              "    </tr>\n",
              "    <tr>\n",
              "      <th>self_employed</th>\n",
              "      <th></th>\n",
              "      <th></th>\n",
              "      <th></th>\n",
              "      <th></th>\n",
              "    </tr>\n",
              "  </thead>\n",
              "  <tbody>\n",
              "    <tr>\n",
              "      <th>No</th>\n",
              "      <td>785</td>\n",
              "      <td>2</td>\n",
              "      <td>Yes</td>\n",
              "      <td>400</td>\n",
              "    </tr>\n",
              "    <tr>\n",
              "      <th>Yes</th>\n",
              "      <td>109</td>\n",
              "      <td>2</td>\n",
              "      <td>Yes</td>\n",
              "      <td>59</td>\n",
              "    </tr>\n",
              "  </tbody>\n",
              "</table>\n",
              "</div>"
            ],
            "text/plain": [
              "              count unique  top freq\n",
              "self_employed                       \n",
              "No              785      2  Yes  400\n",
              "Yes             109      2  Yes   59"
            ]
          },
          "metadata": {
            "tags": []
          },
          "execution_count": 27
        }
      ]
    },
    {
      "cell_type": "markdown",
      "metadata": {
        "id": "KmPzlIqLHqbV"
      },
      "source": [
        "**Treatment VS 'Age**"
      ],
      "id": "KmPzlIqLHqbV"
    },
    {
      "cell_type": "code",
      "metadata": {
        "colab": {
          "base_uri": "https://localhost:8080/",
          "height": 136
        },
        "id": "played-wallet",
        "outputId": "dedc22ed-22bc-40dc-affd-30e8542f0d2a"
      },
      "source": [
        "treat = data.groupby(data['treatment'])\n",
        "treat['Age'].describe()"
      ],
      "id": "played-wallet",
      "execution_count": 28,
      "outputs": [
        {
          "output_type": "execute_result",
          "data": {
            "text/html": [
              "<div>\n",
              "<style scoped>\n",
              "    .dataframe tbody tr th:only-of-type {\n",
              "        vertical-align: middle;\n",
              "    }\n",
              "\n",
              "    .dataframe tbody tr th {\n",
              "        vertical-align: top;\n",
              "    }\n",
              "\n",
              "    .dataframe thead th {\n",
              "        text-align: right;\n",
              "    }\n",
              "</style>\n",
              "<table border=\"1\" class=\"dataframe\">\n",
              "  <thead>\n",
              "    <tr style=\"text-align: right;\">\n",
              "      <th></th>\n",
              "      <th>count</th>\n",
              "      <th>mean</th>\n",
              "      <th>std</th>\n",
              "      <th>min</th>\n",
              "      <th>25%</th>\n",
              "      <th>50%</th>\n",
              "      <th>75%</th>\n",
              "      <th>max</th>\n",
              "    </tr>\n",
              "    <tr>\n",
              "      <th>treatment</th>\n",
              "      <th></th>\n",
              "      <th></th>\n",
              "      <th></th>\n",
              "      <th></th>\n",
              "      <th></th>\n",
              "      <th></th>\n",
              "      <th></th>\n",
              "      <th></th>\n",
              "    </tr>\n",
              "  </thead>\n",
              "  <tbody>\n",
              "    <tr>\n",
              "      <th>No</th>\n",
              "      <td>435.0</td>\n",
              "      <td>31.795402</td>\n",
              "      <td>7.393606</td>\n",
              "      <td>5.0</td>\n",
              "      <td>27.0</td>\n",
              "      <td>31.0</td>\n",
              "      <td>36.0</td>\n",
              "      <td>65.0</td>\n",
              "    </tr>\n",
              "    <tr>\n",
              "      <th>Yes</th>\n",
              "      <td>459.0</td>\n",
              "      <td>32.976035</td>\n",
              "      <td>7.728292</td>\n",
              "      <td>18.0</td>\n",
              "      <td>27.0</td>\n",
              "      <td>32.0</td>\n",
              "      <td>37.0</td>\n",
              "      <td>72.0</td>\n",
              "    </tr>\n",
              "  </tbody>\n",
              "</table>\n",
              "</div>"
            ],
            "text/plain": [
              "           count       mean       std   min   25%   50%   75%   max\n",
              "treatment                                                          \n",
              "No         435.0  31.795402  7.393606   5.0  27.0  31.0  36.0  65.0\n",
              "Yes        459.0  32.976035  7.728292  18.0  27.0  32.0  37.0  72.0"
            ]
          },
          "metadata": {
            "tags": []
          },
          "execution_count": 28
        }
      ]
    },
    {
      "cell_type": "markdown",
      "metadata": {
        "id": "t0dHr1JoH2v4"
      },
      "source": [
        "**treatment VS 'Tech_company' And 'Work_interfere'**"
      ],
      "id": "t0dHr1JoH2v4"
    },
    {
      "cell_type": "code",
      "metadata": {
        "colab": {
          "base_uri": "https://localhost:8080/",
          "height": 166
        },
        "id": "metropolitan-brooks",
        "outputId": "12656175-acb0-4e9b-ee94-fd7fb55c0c55"
      },
      "source": [
        "treat['tech_company', 'work_interfere'].describe()"
      ],
      "id": "metropolitan-brooks",
      "execution_count": 29,
      "outputs": [
        {
          "output_type": "execute_result",
          "data": {
            "text/html": [
              "<div>\n",
              "<style scoped>\n",
              "    .dataframe tbody tr th:only-of-type {\n",
              "        vertical-align: middle;\n",
              "    }\n",
              "\n",
              "    .dataframe tbody tr th {\n",
              "        vertical-align: top;\n",
              "    }\n",
              "\n",
              "    .dataframe thead tr th {\n",
              "        text-align: left;\n",
              "    }\n",
              "\n",
              "    .dataframe thead tr:last-of-type th {\n",
              "        text-align: right;\n",
              "    }\n",
              "</style>\n",
              "<table border=\"1\" class=\"dataframe\">\n",
              "  <thead>\n",
              "    <tr>\n",
              "      <th></th>\n",
              "      <th colspan=\"4\" halign=\"left\">tech_company</th>\n",
              "      <th colspan=\"4\" halign=\"left\">work_interfere</th>\n",
              "    </tr>\n",
              "    <tr>\n",
              "      <th></th>\n",
              "      <th>count</th>\n",
              "      <th>unique</th>\n",
              "      <th>top</th>\n",
              "      <th>freq</th>\n",
              "      <th>count</th>\n",
              "      <th>unique</th>\n",
              "      <th>top</th>\n",
              "      <th>freq</th>\n",
              "    </tr>\n",
              "    <tr>\n",
              "      <th>treatment</th>\n",
              "      <th></th>\n",
              "      <th></th>\n",
              "      <th></th>\n",
              "      <th></th>\n",
              "      <th></th>\n",
              "      <th></th>\n",
              "      <th></th>\n",
              "      <th></th>\n",
              "    </tr>\n",
              "  </thead>\n",
              "  <tbody>\n",
              "    <tr>\n",
              "      <th>No</th>\n",
              "      <td>435</td>\n",
              "      <td>2</td>\n",
              "      <td>Yes</td>\n",
              "      <td>352</td>\n",
              "      <td>435</td>\n",
              "      <td>4</td>\n",
              "      <td>Sometimes</td>\n",
              "      <td>263</td>\n",
              "    </tr>\n",
              "    <tr>\n",
              "      <th>Yes</th>\n",
              "      <td>459</td>\n",
              "      <td>2</td>\n",
              "      <td>Yes</td>\n",
              "      <td>368</td>\n",
              "      <td>459</td>\n",
              "      <td>4</td>\n",
              "      <td>Sometimes</td>\n",
              "      <td>264</td>\n",
              "    </tr>\n",
              "  </tbody>\n",
              "</table>\n",
              "</div>"
            ],
            "text/plain": [
              "          tech_company                  work_interfere                       \n",
              "                 count unique  top freq          count unique        top freq\n",
              "treatment                                                                    \n",
              "No                 435      2  Yes  352            435      4  Sometimes  263\n",
              "Yes                459      2  Yes  368            459      4  Sometimes  264"
            ]
          },
          "metadata": {
            "tags": []
          },
          "execution_count": 29
        }
      ]
    },
    {
      "cell_type": "markdown",
      "metadata": {
        "id": "hy44TCvuIcWY"
      },
      "source": [
        "\n",
        "\n",
        "1. Form this, we get to know that people who work in tech_company are so much mentally affected by their work whether they are taking or not.\n",
        "\n"
      ],
      "id": "hy44TCvuIcWY"
    },
    {
      "cell_type": "markdown",
      "metadata": {
        "id": "972RPvFdJL9Q"
      },
      "source": [
        "**Tretment VS 'benefit' and 'care_options'**"
      ],
      "id": "972RPvFdJL9Q"
    },
    {
      "cell_type": "code",
      "metadata": {
        "colab": {
          "base_uri": "https://localhost:8080/",
          "height": 136
        },
        "id": "supposed-consortium",
        "outputId": "ef35980e-b407-4f1a-cc68-81cc2e6411b8"
      },
      "source": [
        "treat['benefits'].describe()"
      ],
      "id": "supposed-consortium",
      "execution_count": 30,
      "outputs": [
        {
          "output_type": "execute_result",
          "data": {
            "text/html": [
              "<div>\n",
              "<style scoped>\n",
              "    .dataframe tbody tr th:only-of-type {\n",
              "        vertical-align: middle;\n",
              "    }\n",
              "\n",
              "    .dataframe tbody tr th {\n",
              "        vertical-align: top;\n",
              "    }\n",
              "\n",
              "    .dataframe thead th {\n",
              "        text-align: right;\n",
              "    }\n",
              "</style>\n",
              "<table border=\"1\" class=\"dataframe\">\n",
              "  <thead>\n",
              "    <tr style=\"text-align: right;\">\n",
              "      <th></th>\n",
              "      <th>count</th>\n",
              "      <th>unique</th>\n",
              "      <th>top</th>\n",
              "      <th>freq</th>\n",
              "    </tr>\n",
              "    <tr>\n",
              "      <th>treatment</th>\n",
              "      <th></th>\n",
              "      <th></th>\n",
              "      <th></th>\n",
              "      <th></th>\n",
              "    </tr>\n",
              "  </thead>\n",
              "  <tbody>\n",
              "    <tr>\n",
              "      <th>No</th>\n",
              "      <td>435</td>\n",
              "      <td>3</td>\n",
              "      <td>Don't know</td>\n",
              "      <td>187</td>\n",
              "    </tr>\n",
              "    <tr>\n",
              "      <th>Yes</th>\n",
              "      <td>459</td>\n",
              "      <td>3</td>\n",
              "      <td>Yes</td>\n",
              "      <td>212</td>\n",
              "    </tr>\n",
              "  </tbody>\n",
              "</table>\n",
              "</div>"
            ],
            "text/plain": [
              "          count unique         top freq\n",
              "treatment                              \n",
              "No          435      3  Don't know  187\n",
              "Yes         459      3         Yes  212"
            ]
          },
          "metadata": {
            "tags": []
          },
          "execution_count": 30
        }
      ]
    },
    {
      "cell_type": "markdown",
      "metadata": {
        "id": "TE23cOkPJ1jg"
      },
      "source": [
        "\n",
        "\n",
        "1. From this, we get to know that some people don't know that companies provide the mental health benefits to the person or not nd those people are not taking trement.\n",
        "\n",
        "\n"
      ],
      "id": "TE23cOkPJ1jg"
    },
    {
      "cell_type": "markdown",
      "metadata": {
        "id": "a9sSi6m7KSjs"
      },
      "source": [
        "**Treatment VS wellness_program**"
      ],
      "id": "a9sSi6m7KSjs"
    },
    {
      "cell_type": "code",
      "metadata": {
        "colab": {
          "base_uri": "https://localhost:8080/",
          "height": 136
        },
        "id": "trying-teacher",
        "outputId": "5729db8f-3e63-46c3-8044-dd5c357280c6"
      },
      "source": [
        "treat['wellness_program'].describe()"
      ],
      "id": "trying-teacher",
      "execution_count": 31,
      "outputs": [
        {
          "output_type": "execute_result",
          "data": {
            "text/html": [
              "<div>\n",
              "<style scoped>\n",
              "    .dataframe tbody tr th:only-of-type {\n",
              "        vertical-align: middle;\n",
              "    }\n",
              "\n",
              "    .dataframe tbody tr th {\n",
              "        vertical-align: top;\n",
              "    }\n",
              "\n",
              "    .dataframe thead th {\n",
              "        text-align: right;\n",
              "    }\n",
              "</style>\n",
              "<table border=\"1\" class=\"dataframe\">\n",
              "  <thead>\n",
              "    <tr style=\"text-align: right;\">\n",
              "      <th></th>\n",
              "      <th>count</th>\n",
              "      <th>unique</th>\n",
              "      <th>top</th>\n",
              "      <th>freq</th>\n",
              "    </tr>\n",
              "    <tr>\n",
              "      <th>treatment</th>\n",
              "      <th></th>\n",
              "      <th></th>\n",
              "      <th></th>\n",
              "      <th></th>\n",
              "    </tr>\n",
              "  </thead>\n",
              "  <tbody>\n",
              "    <tr>\n",
              "      <th>No</th>\n",
              "      <td>435</td>\n",
              "      <td>3</td>\n",
              "      <td>No</td>\n",
              "      <td>283</td>\n",
              "    </tr>\n",
              "    <tr>\n",
              "      <th>Yes</th>\n",
              "      <td>459</td>\n",
              "      <td>3</td>\n",
              "      <td>No</td>\n",
              "      <td>304</td>\n",
              "    </tr>\n",
              "  </tbody>\n",
              "</table>\n",
              "</div>"
            ],
            "text/plain": [
              "          count unique top freq\n",
              "treatment                      \n",
              "No          435      3  No  283\n",
              "Yes         459      3  No  304"
            ]
          },
          "metadata": {
            "tags": []
          },
          "execution_count": 31
        }
      ]
    },
    {
      "cell_type": "markdown",
      "metadata": {
        "id": "3wfvauj6KiuP"
      },
      "source": [
        "**How easy is to take medical 'leave' for a mental Health condition.**"
      ],
      "id": "3wfvauj6KiuP"
    },
    {
      "cell_type": "code",
      "metadata": {
        "colab": {
          "base_uri": "https://localhost:8080/",
          "height": 195
        },
        "id": "prerequisite-convertible",
        "outputId": "47b747f2-8900-425c-efaa-b94f10bbb011"
      },
      "source": [
        "pd.DataFrame(data['leave'].value_counts(normalize = True))"
      ],
      "id": "prerequisite-convertible",
      "execution_count": 32,
      "outputs": [
        {
          "output_type": "execute_result",
          "data": {
            "text/html": [
              "<div>\n",
              "<style scoped>\n",
              "    .dataframe tbody tr th:only-of-type {\n",
              "        vertical-align: middle;\n",
              "    }\n",
              "\n",
              "    .dataframe tbody tr th {\n",
              "        vertical-align: top;\n",
              "    }\n",
              "\n",
              "    .dataframe thead th {\n",
              "        text-align: right;\n",
              "    }\n",
              "</style>\n",
              "<table border=\"1\" class=\"dataframe\">\n",
              "  <thead>\n",
              "    <tr style=\"text-align: right;\">\n",
              "      <th></th>\n",
              "      <th>leave</th>\n",
              "    </tr>\n",
              "  </thead>\n",
              "  <tbody>\n",
              "    <tr>\n",
              "      <th>Don't know</th>\n",
              "      <td>0.453020</td>\n",
              "    </tr>\n",
              "    <tr>\n",
              "      <th>Somewhat easy</th>\n",
              "      <td>0.200224</td>\n",
              "    </tr>\n",
              "    <tr>\n",
              "      <th>Very easy</th>\n",
              "      <td>0.171141</td>\n",
              "    </tr>\n",
              "    <tr>\n",
              "      <th>Somewhat difficult</th>\n",
              "      <td>0.099553</td>\n",
              "    </tr>\n",
              "    <tr>\n",
              "      <th>Very difficult</th>\n",
              "      <td>0.076063</td>\n",
              "    </tr>\n",
              "  </tbody>\n",
              "</table>\n",
              "</div>"
            ],
            "text/plain": [
              "                       leave\n",
              "Don't know          0.453020\n",
              "Somewhat easy       0.200224\n",
              "Very easy           0.171141\n",
              "Somewhat difficult  0.099553\n",
              "Very difficult      0.076063"
            ]
          },
          "metadata": {
            "tags": []
          },
          "execution_count": 32
        }
      ]
    },
    {
      "cell_type": "markdown",
      "metadata": {
        "id": "tTKoZ9XxKx31"
      },
      "source": [
        "**Discussing a mental Health issue with employer would have negative consequeces**"
      ],
      "id": "tTKoZ9XxKx31"
    },
    {
      "cell_type": "code",
      "metadata": {
        "colab": {
          "base_uri": "https://localhost:8080/",
          "height": 136
        },
        "id": "known-medicare",
        "outputId": "500c33a2-1ad1-4ce3-aec2-01d05236e62b"
      },
      "source": [
        "pd.DataFrame(data['mental_health_consequence'].value_counts(normalize = True))"
      ],
      "id": "known-medicare",
      "execution_count": 33,
      "outputs": [
        {
          "output_type": "execute_result",
          "data": {
            "text/html": [
              "<div>\n",
              "<style scoped>\n",
              "    .dataframe tbody tr th:only-of-type {\n",
              "        vertical-align: middle;\n",
              "    }\n",
              "\n",
              "    .dataframe tbody tr th {\n",
              "        vertical-align: top;\n",
              "    }\n",
              "\n",
              "    .dataframe thead th {\n",
              "        text-align: right;\n",
              "    }\n",
              "</style>\n",
              "<table border=\"1\" class=\"dataframe\">\n",
              "  <thead>\n",
              "    <tr style=\"text-align: right;\">\n",
              "      <th></th>\n",
              "      <th>mental_health_consequence</th>\n",
              "    </tr>\n",
              "  </thead>\n",
              "  <tbody>\n",
              "    <tr>\n",
              "      <th>Maybe</th>\n",
              "      <td>0.385906</td>\n",
              "    </tr>\n",
              "    <tr>\n",
              "      <th>No</th>\n",
              "      <td>0.375839</td>\n",
              "    </tr>\n",
              "    <tr>\n",
              "      <th>Yes</th>\n",
              "      <td>0.238255</td>\n",
              "    </tr>\n",
              "  </tbody>\n",
              "</table>\n",
              "</div>"
            ],
            "text/plain": [
              "       mental_health_consequence\n",
              "Maybe                   0.385906\n",
              "No                      0.375839\n",
              "Yes                     0.238255"
            ]
          },
          "metadata": {
            "tags": []
          },
          "execution_count": 33
        }
      ]
    },
    {
      "cell_type": "markdown",
      "metadata": {
        "id": "R9aN-Q98LAk1"
      },
      "source": [
        "\n",
        "\n",
        "1. From here, approx 38% people thinks'No' Mental_health_Consequences if they share.\n",
        "2. and 23 % thinks that would be negative consequences.\n",
        "\n"
      ],
      "id": "R9aN-Q98LAk1"
    },
    {
      "cell_type": "markdown",
      "metadata": {
        "id": "XttJZ9KVLb7Q"
      },
      "source": [
        "**Disscussing a physical health issue with your employer would have negative consequences?**"
      ],
      "id": "XttJZ9KVLb7Q"
    },
    {
      "cell_type": "code",
      "metadata": {
        "colab": {
          "base_uri": "https://localhost:8080/",
          "height": 136
        },
        "id": "freelance-orientation",
        "outputId": "1a7cde2f-86d5-4f0a-b59b-63921b52f2f1"
      },
      "source": [
        "pd.DataFrame(data['phys_health_consequence'].value_counts())"
      ],
      "id": "freelance-orientation",
      "execution_count": 34,
      "outputs": [
        {
          "output_type": "execute_result",
          "data": {
            "text/html": [
              "<div>\n",
              "<style scoped>\n",
              "    .dataframe tbody tr th:only-of-type {\n",
              "        vertical-align: middle;\n",
              "    }\n",
              "\n",
              "    .dataframe tbody tr th {\n",
              "        vertical-align: top;\n",
              "    }\n",
              "\n",
              "    .dataframe thead th {\n",
              "        text-align: right;\n",
              "    }\n",
              "</style>\n",
              "<table border=\"1\" class=\"dataframe\">\n",
              "  <thead>\n",
              "    <tr style=\"text-align: right;\">\n",
              "      <th></th>\n",
              "      <th>phys_health_consequence</th>\n",
              "    </tr>\n",
              "  </thead>\n",
              "  <tbody>\n",
              "    <tr>\n",
              "      <th>No</th>\n",
              "      <td>649</td>\n",
              "    </tr>\n",
              "    <tr>\n",
              "      <th>Maybe</th>\n",
              "      <td>203</td>\n",
              "    </tr>\n",
              "    <tr>\n",
              "      <th>Yes</th>\n",
              "      <td>42</td>\n",
              "    </tr>\n",
              "  </tbody>\n",
              "</table>\n",
              "</div>"
            ],
            "text/plain": [
              "       phys_health_consequence\n",
              "No                         649\n",
              "Maybe                      203\n",
              "Yes                         42"
            ]
          },
          "metadata": {
            "tags": []
          },
          "execution_count": 34
        }
      ]
    },
    {
      "cell_type": "markdown",
      "metadata": {
        "id": "yonidW-JL35w"
      },
      "source": [
        "**Discuss a mental Health issue with your direct supervior(S)**\n"
      ],
      "id": "yonidW-JL35w"
    },
    {
      "cell_type": "code",
      "metadata": {
        "colab": {
          "base_uri": "https://localhost:8080/",
          "height": 136
        },
        "id": "foster-enemy",
        "outputId": "094117d8-ebe7-4b36-9cfe-fc62bb400c33"
      },
      "source": [
        "pd.DataFrame(data['supervisor'].value_counts(normalize = True))"
      ],
      "id": "foster-enemy",
      "execution_count": 35,
      "outputs": [
        {
          "output_type": "execute_result",
          "data": {
            "text/html": [
              "<div>\n",
              "<style scoped>\n",
              "    .dataframe tbody tr th:only-of-type {\n",
              "        vertical-align: middle;\n",
              "    }\n",
              "\n",
              "    .dataframe tbody tr th {\n",
              "        vertical-align: top;\n",
              "    }\n",
              "\n",
              "    .dataframe thead th {\n",
              "        text-align: right;\n",
              "    }\n",
              "</style>\n",
              "<table border=\"1\" class=\"dataframe\">\n",
              "  <thead>\n",
              "    <tr style=\"text-align: right;\">\n",
              "      <th></th>\n",
              "      <th>supervisor</th>\n",
              "    </tr>\n",
              "  </thead>\n",
              "  <tbody>\n",
              "    <tr>\n",
              "      <th>Yes</th>\n",
              "      <td>0.398210</td>\n",
              "    </tr>\n",
              "    <tr>\n",
              "      <th>No</th>\n",
              "      <td>0.317673</td>\n",
              "    </tr>\n",
              "    <tr>\n",
              "      <th>Some of them</th>\n",
              "      <td>0.284116</td>\n",
              "    </tr>\n",
              "  </tbody>\n",
              "</table>\n",
              "</div>"
            ],
            "text/plain": [
              "              supervisor\n",
              "Yes             0.398210\n",
              "No              0.317673\n",
              "Some of them    0.284116"
            ]
          },
          "metadata": {
            "tags": []
          },
          "execution_count": 35
        }
      ]
    },
    {
      "cell_type": "markdown",
      "metadata": {
        "id": "wmretCgbMrQL"
      },
      "source": [
        "**Discuss a mental Health Issue with your Coworkers**"
      ],
      "id": "wmretCgbMrQL"
    },
    {
      "cell_type": "code",
      "metadata": {
        "colab": {
          "base_uri": "https://localhost:8080/",
          "height": 136
        },
        "id": "animated-conjunction",
        "outputId": "c8a9e359-f827-44a2-e9b1-0b4ce197e0a9"
      },
      "source": [
        "pd.DataFrame(data['coworkers'].value_counts(normalize = True))"
      ],
      "id": "animated-conjunction",
      "execution_count": 36,
      "outputs": [
        {
          "output_type": "execute_result",
          "data": {
            "text/html": [
              "<div>\n",
              "<style scoped>\n",
              "    .dataframe tbody tr th:only-of-type {\n",
              "        vertical-align: middle;\n",
              "    }\n",
              "\n",
              "    .dataframe tbody tr th {\n",
              "        vertical-align: top;\n",
              "    }\n",
              "\n",
              "    .dataframe thead th {\n",
              "        text-align: right;\n",
              "    }\n",
              "</style>\n",
              "<table border=\"1\" class=\"dataframe\">\n",
              "  <thead>\n",
              "    <tr style=\"text-align: right;\">\n",
              "      <th></th>\n",
              "      <th>coworkers</th>\n",
              "    </tr>\n",
              "  </thead>\n",
              "  <tbody>\n",
              "    <tr>\n",
              "      <th>Some of them</th>\n",
              "      <td>0.617450</td>\n",
              "    </tr>\n",
              "    <tr>\n",
              "      <th>No</th>\n",
              "      <td>0.215884</td>\n",
              "    </tr>\n",
              "    <tr>\n",
              "      <th>Yes</th>\n",
              "      <td>0.166667</td>\n",
              "    </tr>\n",
              "  </tbody>\n",
              "</table>\n",
              "</div>"
            ],
            "text/plain": [
              "              coworkers\n",
              "Some of them   0.617450\n",
              "No             0.215884\n",
              "Yes            0.166667"
            ]
          },
          "metadata": {
            "tags": []
          },
          "execution_count": 36
        }
      ]
    },
    {
      "cell_type": "markdown",
      "metadata": {
        "id": "tJiZzfdWNJ_6"
      },
      "source": [
        "**Mental health issue with a potential employer in an interview**"
      ],
      "id": "tJiZzfdWNJ_6"
    },
    {
      "cell_type": "code",
      "metadata": {
        "colab": {
          "base_uri": "https://localhost:8080/",
          "height": 136
        },
        "id": "written-albuquerque",
        "outputId": "a435b1a6-05d4-4576-b029-0592bdc0174d"
      },
      "source": [
        "pd.DataFrame(data['mental_health_interview'].value_counts(normalize=  True))"
      ],
      "id": "written-albuquerque",
      "execution_count": 37,
      "outputs": [
        {
          "output_type": "execute_result",
          "data": {
            "text/html": [
              "<div>\n",
              "<style scoped>\n",
              "    .dataframe tbody tr th:only-of-type {\n",
              "        vertical-align: middle;\n",
              "    }\n",
              "\n",
              "    .dataframe tbody tr th {\n",
              "        vertical-align: top;\n",
              "    }\n",
              "\n",
              "    .dataframe thead th {\n",
              "        text-align: right;\n",
              "    }\n",
              "</style>\n",
              "<table border=\"1\" class=\"dataframe\">\n",
              "  <thead>\n",
              "    <tr style=\"text-align: right;\">\n",
              "      <th></th>\n",
              "      <th>mental_health_interview</th>\n",
              "    </tr>\n",
              "  </thead>\n",
              "  <tbody>\n",
              "    <tr>\n",
              "      <th>No</th>\n",
              "      <td>0.816555</td>\n",
              "    </tr>\n",
              "    <tr>\n",
              "      <th>Maybe</th>\n",
              "      <td>0.153244</td>\n",
              "    </tr>\n",
              "    <tr>\n",
              "      <th>Yes</th>\n",
              "      <td>0.030201</td>\n",
              "    </tr>\n",
              "  </tbody>\n",
              "</table>\n",
              "</div>"
            ],
            "text/plain": [
              "       mental_health_interview\n",
              "No                    0.816555\n",
              "Maybe                 0.153244\n",
              "Yes                   0.030201"
            ]
          },
          "metadata": {
            "tags": []
          },
          "execution_count": 37
        }
      ]
    },
    {
      "cell_type": "markdown",
      "metadata": {
        "id": "rE-UyB8JNWYT"
      },
      "source": [
        "\n",
        "\n",
        "1. there are 81 of people they don't like to share mental health issues during interview.\n",
        "2. There ara 3% of people they can share mental health issues during interview.\n",
        "\n"
      ],
      "id": "rE-UyB8JNWYT"
    },
    {
      "cell_type": "markdown",
      "metadata": {
        "id": "s0AMhti9N7lw"
      },
      "source": [
        "**Physical Health issus with a potential in an interview?**"
      ],
      "id": "s0AMhti9N7lw"
    },
    {
      "cell_type": "code",
      "metadata": {
        "colab": {
          "base_uri": "https://localhost:8080/",
          "height": 136
        },
        "id": "metric-moisture",
        "outputId": "dda0adf1-003e-41e6-a0b0-24a8fb09f7f7"
      },
      "source": [
        "pd.DataFrame(data['phys_health_interview'].value_counts(normalize = True))"
      ],
      "id": "metric-moisture",
      "execution_count": 38,
      "outputs": [
        {
          "output_type": "execute_result",
          "data": {
            "text/html": [
              "<div>\n",
              "<style scoped>\n",
              "    .dataframe tbody tr th:only-of-type {\n",
              "        vertical-align: middle;\n",
              "    }\n",
              "\n",
              "    .dataframe tbody tr th {\n",
              "        vertical-align: top;\n",
              "    }\n",
              "\n",
              "    .dataframe thead th {\n",
              "        text-align: right;\n",
              "    }\n",
              "</style>\n",
              "<table border=\"1\" class=\"dataframe\">\n",
              "  <thead>\n",
              "    <tr style=\"text-align: right;\">\n",
              "      <th></th>\n",
              "      <th>phys_health_interview</th>\n",
              "    </tr>\n",
              "  </thead>\n",
              "  <tbody>\n",
              "    <tr>\n",
              "      <th>Maybe</th>\n",
              "      <td>0.442953</td>\n",
              "    </tr>\n",
              "    <tr>\n",
              "      <th>No</th>\n",
              "      <td>0.409396</td>\n",
              "    </tr>\n",
              "    <tr>\n",
              "      <th>Yes</th>\n",
              "      <td>0.147651</td>\n",
              "    </tr>\n",
              "  </tbody>\n",
              "</table>\n",
              "</div>"
            ],
            "text/plain": [
              "       phys_health_interview\n",
              "Maybe               0.442953\n",
              "No                  0.409396\n",
              "Yes                 0.147651"
            ]
          },
          "metadata": {
            "tags": []
          },
          "execution_count": 38
        }
      ]
    },
    {
      "cell_type": "markdown",
      "metadata": {
        "id": "6yMY9wMAOQbX"
      },
      "source": [
        "Mental VS physical"
      ],
      "id": "6yMY9wMAOQbX"
    },
    {
      "cell_type": "code",
      "metadata": {
        "colab": {
          "base_uri": "https://localhost:8080/",
          "height": 136
        },
        "id": "dutch-symbol",
        "outputId": "eb8abd69-80e8-42c0-d1e2-044ecd0c6fce"
      },
      "source": [
        "pd.DataFrame(data['mental_vs_physical'].value_counts(normalize = True))"
      ],
      "id": "dutch-symbol",
      "execution_count": 39,
      "outputs": [
        {
          "output_type": "execute_result",
          "data": {
            "text/html": [
              "<div>\n",
              "<style scoped>\n",
              "    .dataframe tbody tr th:only-of-type {\n",
              "        vertical-align: middle;\n",
              "    }\n",
              "\n",
              "    .dataframe tbody tr th {\n",
              "        vertical-align: top;\n",
              "    }\n",
              "\n",
              "    .dataframe thead th {\n",
              "        text-align: right;\n",
              "    }\n",
              "</style>\n",
              "<table border=\"1\" class=\"dataframe\">\n",
              "  <thead>\n",
              "    <tr style=\"text-align: right;\">\n",
              "      <th></th>\n",
              "      <th>mental_vs_physical</th>\n",
              "    </tr>\n",
              "  </thead>\n",
              "  <tbody>\n",
              "    <tr>\n",
              "      <th>Don't know</th>\n",
              "      <td>0.445190</td>\n",
              "    </tr>\n",
              "    <tr>\n",
              "      <th>No</th>\n",
              "      <td>0.277405</td>\n",
              "    </tr>\n",
              "    <tr>\n",
              "      <th>Yes</th>\n",
              "      <td>0.277405</td>\n",
              "    </tr>\n",
              "  </tbody>\n",
              "</table>\n",
              "</div>"
            ],
            "text/plain": [
              "            mental_vs_physical\n",
              "Don't know            0.445190\n",
              "No                    0.277405\n",
              "Yes                   0.277405"
            ]
          },
          "metadata": {
            "tags": []
          },
          "execution_count": 39
        }
      ]
    },
    {
      "cell_type": "markdown",
      "metadata": {
        "id": "qkqfjq8IOW0Q"
      },
      "source": [
        "**Observation negative consequence for Coworkers with mental health conditions in your workplace**"
      ],
      "id": "qkqfjq8IOW0Q"
    },
    {
      "cell_type": "code",
      "metadata": {
        "colab": {
          "base_uri": "https://localhost:8080/",
          "height": 106
        },
        "id": "apparent-round",
        "outputId": "78c815fd-9c1b-4a0e-cccd-b91a4ca8d57b"
      },
      "source": [
        "pd.DataFrame(data['obs_consequence'].value_counts(normalize = True))"
      ],
      "id": "apparent-round",
      "execution_count": 40,
      "outputs": [
        {
          "output_type": "execute_result",
          "data": {
            "text/html": [
              "<div>\n",
              "<style scoped>\n",
              "    .dataframe tbody tr th:only-of-type {\n",
              "        vertical-align: middle;\n",
              "    }\n",
              "\n",
              "    .dataframe tbody tr th {\n",
              "        vertical-align: top;\n",
              "    }\n",
              "\n",
              "    .dataframe thead th {\n",
              "        text-align: right;\n",
              "    }\n",
              "</style>\n",
              "<table border=\"1\" class=\"dataframe\">\n",
              "  <thead>\n",
              "    <tr style=\"text-align: right;\">\n",
              "      <th></th>\n",
              "      <th>obs_consequence</th>\n",
              "    </tr>\n",
              "  </thead>\n",
              "  <tbody>\n",
              "    <tr>\n",
              "      <th>No</th>\n",
              "      <td>0.848993</td>\n",
              "    </tr>\n",
              "    <tr>\n",
              "      <th>Yes</th>\n",
              "      <td>0.151007</td>\n",
              "    </tr>\n",
              "  </tbody>\n",
              "</table>\n",
              "</div>"
            ],
            "text/plain": [
              "     obs_consequence\n",
              "No          0.848993\n",
              "Yes         0.151007"
            ]
          },
          "metadata": {
            "tags": []
          },
          "execution_count": 40
        }
      ]
    },
    {
      "cell_type": "markdown",
      "metadata": {
        "id": "_SVe_nIO91mD"
      },
      "source": [
        "# Visualization of data"
      ],
      "id": "_SVe_nIO91mD"
    },
    {
      "cell_type": "markdown",
      "metadata": {
        "id": "afdo-b4s-VCY"
      },
      "source": [
        "***Age Distribution***\n"
      ],
      "id": "afdo-b4s-VCY"
    },
    {
      "cell_type": "code",
      "metadata": {
        "colab": {
          "base_uri": "https://localhost:8080/",
          "height": 405
        },
        "id": "u56rt9gn-DoA",
        "outputId": "6e152c3a-5c67-4cec-f0e7-ab9a136322bf"
      },
      "source": [
        "plt.figure(figsize = (8,6))\n",
        "sns.distplot(data['Age'], color=  'g')"
      ],
      "id": "u56rt9gn-DoA",
      "execution_count": 41,
      "outputs": [
        {
          "output_type": "execute_result",
          "data": {
            "text/plain": [
              "<matplotlib.axes._subplots.AxesSubplot at 0x7fdd16d24750>"
            ]
          },
          "metadata": {
            "tags": []
          },
          "execution_count": 41
        },
        {
          "output_type": "display_data",
          "data": {
            "image/png": "[encoded data removed]",
            "text/plain": [
              "<Figure size 576x432 with 1 Axes>"
            ]
          },
          "metadata": {
            "tags": [],
            "needs_background": "light"
          }
        }
      ]
    },
    {
      "cell_type": "markdown",
      "metadata": {
        "id": "0jvgunuf_cQ3"
      },
      "source": [
        "treatment vs Gender"
      ],
      "id": "0jvgunuf_cQ3"
    },
    {
      "cell_type": "code",
      "metadata": {
        "colab": {
          "base_uri": "https://localhost:8080/",
          "height": 388
        },
        "id": "575t0fFH_dce",
        "outputId": "68a895d1-b760-41fd-92e3-bd2a138cfc69"
      },
      "source": [
        "plt.figure(figsize = (10,6))\n",
        "sns.countplot(x = 'Gender', data = data,hue = 'treatment')\n",
        "plt.show()"
      ],
      "id": "575t0fFH_dce",
      "execution_count": 42,
      "outputs": [
        {
          "output_type": "display_data",
          "data": {
            "image/png": "[encoded data removed]",
            "text/plain": [
              "<Figure size 720x432 with 1 Axes>"
            ]
          },
          "metadata": {
            "tags": [],
            "needs_background": "light"
          }
        }
      ]
    },
    {
      "cell_type": "markdown",
      "metadata": {
        "id": "ZyAxkESfAHc5"
      },
      "source": [
        ""
      ],
      "id": "ZyAxkESfAHc5"
    },
    {
      "cell_type": "markdown",
      "metadata": {
        "id": "EGGLDo0bAJ1p"
      },
      "source": [
        ""
      ],
      "id": "EGGLDo0bAJ1p"
    },
    {
      "cell_type": "markdown",
      "metadata": {
        "id": "UlQJQSQB_xCW"
      },
      "source": [
        "Country-wise gender ratio participating in the survey"
      ],
      "id": "UlQJQSQB_xCW"
    },
    {
      "cell_type": "code",
      "metadata": {
        "colab": {
          "base_uri": "https://localhost:8080/",
          "height": 730
        },
        "id": "o0jWydMq_5kg",
        "outputId": "19a783a0-7a3e-4fda-e27f-8361a7ed0300"
      },
      "source": [
        "#shows that more number of males are working in tech companies all over the world\n",
        "plt.figure(figsize= (20,9))\n",
        "sns.countplot(x='Country', order= data['Country'].value_counts().index, hue='Gender', data=data)\n",
        "plt.legend(bbox_to_anchor=(1.02, 1), loc=2, borderaxespad=0.)\n",
        "plt.xticks(rotation=90)"
      ],
      "id": "o0jWydMq_5kg",
      "execution_count": 43,
      "outputs": [
        {
          "output_type": "execute_result",
          "data": {
            "text/plain": [
              "(array([ 0,  1,  2,  3,  4,  5,  6,  7,  8,  9, 10, 11, 12, 13, 14, 15, 16,\n",
              "        17, 18, 19, 20, 21, 22, 23, 24, 25, 26, 27, 28, 29, 30, 31, 32, 33,\n",
              "        34, 35, 36, 37, 38, 39, 40]),\n",
              " <a list of 41 Text major ticklabel objects>)"
            ]
          },
          "metadata": {
            "tags": []
          },
          "execution_count": 43
        },
        {
          "output_type": "display_data",
          "data": {
            "image/png": "[encoded data removed]",
            "text/plain": [
              "<Figure size 1440x648 with 1 Axes>"
            ]
          },
          "metadata": {
            "tags": [],
            "needs_background": "light"
          }
        }
      ]
    },
    {
      "cell_type": "markdown",
      "metadata": {
        "id": "KsL7AjQFALJB"
      },
      "source": [
        "More number of males are working in tech companies all over the world."
      ],
      "id": "KsL7AjQFALJB"
    },
    {
      "cell_type": "markdown",
      "metadata": {
        "id": "ZxCxpazbAMjc"
      },
      "source": [
        "**country wise representation of data with focus on india**"
      ],
      "id": "ZxCxpazbAMjc"
    },
    {
      "cell_type": "code",
      "metadata": {
        "colab": {
          "base_uri": "https://localhost:8080/",
          "height": 625
        },
        "id": "KrNV1qBsAVD5",
        "outputId": "ccb42490-c26b-4e6a-c08e-37cf9cc8eb07"
      },
      "source": [
        "plt.figure(figsize=(20,8))\n",
        "sns.countplot(data.Country, order= data['Country'].value_counts().index)\n",
        "plt.xticks(rotation=90)\n",
        "plt.annotate('Mental Health Survey Participants from India', xy=(8, 20), xytext=(10, 20.5),\n",
        "             arrowprops=dict(facecolor='black', shrink=0.05),)"
      ],
      "id": "KrNV1qBsAVD5",
      "execution_count": 44,
      "outputs": [
        {
          "output_type": "execute_result",
          "data": {
            "text/plain": [
              "Text(10, 20.5, 'Mental Health Survey Participants from India')"
            ]
          },
          "metadata": {
            "tags": []
          },
          "execution_count": 44
        },
        {
          "output_type": "display_data",
          "data": {
            "image/png": "[encoded data removed]",
            "text/plain": [
              "<Figure size 1440x576 with 1 Axes>"
            ]
          },
          "metadata": {
            "tags": [],
            "needs_background": "light"
          }
        }
      ]
    },
    {
      "cell_type": "markdown",
      "metadata": {
        "id": "yamhMxoQArff"
      },
      "source": [
        "**family-history VS treatment**"
      ],
      "id": "yamhMxoQArff"
    },
    {
      "cell_type": "code",
      "metadata": {
        "colab": {
          "base_uri": "https://localhost:8080/",
          "height": 405
        },
        "id": "CdCGhgx7A1m8",
        "outputId": "4b5d09e1-7601-4793-f63d-5bb8ce9d57d1"
      },
      "source": [
        "plt.figure(figsize = (10,6))\n",
        "sns.countplot(x = 'family_history', data = data, hue = 'treatment')\n",
        "plt.title('Does family history affect the mental health?')\n",
        "plt.show()\n"
      ],
      "id": "CdCGhgx7A1m8",
      "execution_count": 45,
      "outputs": [
        {
          "output_type": "display_data",
          "data": {
            "image/png": "[encoded data removed]",
            "text/plain": [
              "<Figure size 720x432 with 1 Axes>"
            ]
          },
          "metadata": {
            "tags": [],
            "needs_background": "light"
          }
        }
      ]
    },
    {
      "cell_type": "markdown",
      "metadata": {
        "id": "aRcVEAW3BkNI"
      },
      "source": [
        "\n",
        "\n",
        "\n",
        "\n",
        "*   More person go for the treatment if they have family history of mental illness.\n",
        "\n",
        "\n",
        "\n"
      ],
      "id": "aRcVEAW3BkNI"
    },
    {
      "cell_type": "markdown",
      "metadata": {
        "id": "0QnKKKzyB1FC"
      },
      "source": [
        "**Work-interfere**"
      ],
      "id": "0QnKKKzyB1FC"
    },
    {
      "cell_type": "code",
      "metadata": {
        "colab": {
          "base_uri": "https://localhost:8080/",
          "height": 373
        },
        "id": "gVsBfHBQB70g",
        "outputId": "0d85e277-d8e9-4d12-e214-7a789df47370"
      },
      "source": [
        "plt.figure(figsize = (10,6))\n",
        "v = data['work_interfere'].value_counts()\n",
        "label = ['Sometimes', 'Never', 'Rarely', 'Often']\n",
        "plt.pie(v, labels = label, autopct = '%0.02f', radius = 1,shadow= True, startangle = 90)\n",
        "plt.title('mental health condition,interferes with work?')\n",
        "plt.show()"
      ],
      "id": "gVsBfHBQB70g",
      "execution_count": 46,
      "outputs": [
        {
          "output_type": "display_data",
          "data": {
            "image/png": "[encoded data removed]",
            "text/plain": [
              "<Figure size 720x432 with 1 Axes>"
            ]
          },
          "metadata": {
            "tags": []
          }
        }
      ]
    },
    {
      "cell_type": "markdown",
      "metadata": {
        "id": "uFUDD1KpCdFp"
      },
      "source": [
        "**Work-interfere VS treatment**"
      ],
      "id": "uFUDD1KpCdFp"
    },
    {
      "cell_type": "code",
      "metadata": {
        "colab": {
          "base_uri": "https://localhost:8080/",
          "height": 389
        },
        "id": "YmcFc2_8Cd60",
        "outputId": "5e5b36a2-bc73-4708-f8ba-fcfad0aa9136"
      },
      "source": [
        "plt.figure(figsize = (10,6))\n",
        "sns.countplot(x =  'work_interfere', data = data, hue = 'treatment')\n",
        "plt.show()"
      ],
      "id": "YmcFc2_8Cd60",
      "execution_count": 47,
      "outputs": [
        {
          "output_type": "display_data",
          "data": {
            "image/png": "[encoded data removed]",
            "text/plain": [
              "<Figure size 720x432 with 1 Axes>"
            ]
          },
          "metadata": {
            "tags": [],
            "needs_background": "light"
          }
        }
      ]
    },
    {
      "cell_type": "markdown",
      "metadata": {
        "id": "KQQMJ6xCCs2k"
      },
      "source": [
        "**Remote work**"
      ],
      "id": "KQQMJ6xCCs2k"
    },
    {
      "cell_type": "code",
      "metadata": {
        "colab": {
          "base_uri": "https://localhost:8080/",
          "height": 373
        },
        "id": "8FW6_YmGCwUw",
        "outputId": "2a06da5f-7c4b-44be-8d1f-4e3c25555cc9"
      },
      "source": [
        "plt.figure(figsize = (10,6))\n",
        "value = data['remote_work'].value_counts()\n",
        "plt.pie(value, colors = ['r','g'], autopct=  '%0.02f', startangle = 70,shadow = True, radius = 1)\n",
        "plt.title('Work remotely (outside of an office) at least 50% of the time?')\n",
        "plt.show()\n"
      ],
      "id": "8FW6_YmGCwUw",
      "execution_count": 48,
      "outputs": [
        {
          "output_type": "display_data",
          "data": {
            "image/png": "[encoded data removed]",
            "text/plain": [
              "<Figure size 720x432 with 1 Axes>"
            ]
          },
          "metadata": {
            "tags": []
          }
        }
      ]
    },
    {
      "cell_type": "markdown",
      "metadata": {
        "id": "v1M4ON2bDQRS"
      },
      "source": [
        "**Benefits**"
      ],
      "id": "v1M4ON2bDQRS"
    },
    {
      "cell_type": "code",
      "metadata": {
        "colab": {
          "base_uri": "https://localhost:8080/",
          "height": 373
        },
        "id": "aWnPh8x5DXUk",
        "outputId": "9de8ac84-107e-4230-ccf3-3b19eaff5f77"
      },
      "source": [
        "plt.figure(figsize = (10,6))\n",
        "value = data['benefits'].value_counts()\n",
        "\n",
        "plt.pie(value, autopct = '%0.02f', labels = ['Yes', 'Don\\'t know', 'No'], startangle = 90, shadow = True)\n",
        "plt.title('Does employer provide mental health benefits?')\n",
        "plt.show()"
      ],
      "id": "aWnPh8x5DXUk",
      "execution_count": 49,
      "outputs": [
        {
          "output_type": "display_data",
          "data": {
            "image/png": "[encoded data removed]",
            "text/plain": [
              "<Figure size 720x432 with 1 Axes>"
            ]
          },
          "metadata": {
            "tags": []
          }
        }
      ]
    },
    {
      "cell_type": "code",
      "metadata": {
        "colab": {
          "base_uri": "https://localhost:8080/",
          "height": 388
        },
        "id": "z2mDOgPIDkt1",
        "outputId": "b8059bcf-ffaa-4bb8-eb1c-353babbc8a49"
      },
      "source": [
        "plt.figure(figsize = (10,6))\n",
        "sns.countplot(x = 'benefits', data = data, hue = 'treatment')\n",
        "plt.show()"
      ],
      "id": "z2mDOgPIDkt1",
      "execution_count": 50,
      "outputs": [
        {
          "output_type": "display_data",
          "data": {
            "image/png": "[encoded data removed]",
            "text/plain": [
              "<Figure size 720x432 with 1 Axes>"
            ]
          },
          "metadata": {
            "tags": [],
            "needs_background": "light"
          }
        }
      ]
    },
    {
      "cell_type": "markdown",
      "metadata": {
        "id": "_VieOj-DD-dn"
      },
      "source": [
        "**Wellness-program**"
      ],
      "id": "_VieOj-DD-dn"
    },
    {
      "cell_type": "code",
      "metadata": {
        "colab": {
          "base_uri": "https://localhost:8080/",
          "height": 373
        },
        "id": "hfHUDIrJEC9S",
        "outputId": "39f6ec3c-c0bc-4f5b-a5c3-869460c1395f"
      },
      "source": [
        "plt.figure(figsize = (10,6))\n",
        "value = data['wellness_program'].value_counts()\n",
        "plt.title('Employer ever discussed mental health as part of an employee wellness program?')\n",
        "plt.pie(value, autopct = '%0.02f', labels=  ['No', 'Yes', 'Don\\'t know'], startangle = 90, shadow = True)\n",
        "plt.show()"
      ],
      "id": "hfHUDIrJEC9S",
      "execution_count": 51,
      "outputs": [
        {
          "output_type": "display_data",
          "data": {
            "image/png": "[encoded data removed]",
            "text/plain": [
              "<Figure size 720x432 with 1 Axes>"
            ]
          },
          "metadata": {
            "tags": []
          }
        }
      ]
    },
    {
      "cell_type": "markdown",
      "metadata": {
        "id": "n5izdPz8Flgf"
      },
      "source": [
        "**Anonymity**"
      ],
      "id": "n5izdPz8Flgf"
    },
    {
      "cell_type": "code",
      "metadata": {
        "colab": {
          "base_uri": "https://localhost:8080/",
          "height": 373
        },
        "id": "WNRz9eUkFoTd",
        "outputId": "a6acf0fd-e200-4ed7-f651-9c51e7462638"
      },
      "source": [
        "plt.figure(figsize = (10,6))\n",
        "value = data['anonymity'].value_counts()\n",
        "plt.title('Anonymity protected if you choose to take advantage of mental health or substance abuse treatment resources?')\n",
        "plt.pie(value, autopct = '%0.02f', labels=  ['No', 'Don\\'t know', 'Yes'], startangle = 90, shadow = True)\n",
        "plt.show()"
      ],
      "id": "WNRz9eUkFoTd",
      "execution_count": 52,
      "outputs": [
        {
          "output_type": "display_data",
          "data": {
            "image/png": "[encoded data removed]",
            "text/plain": [
              "<Figure size 720x432 with 1 Axes>"
            ]
          },
          "metadata": {
            "tags": []
          }
        }
      ]
    },
    {
      "cell_type": "code",
      "metadata": {
        "id": "z6mFZIuGF8CE"
      },
      "source": [
        ""
      ],
      "id": "z6mFZIuGF8CE",
      "execution_count": 52,
      "outputs": []
    },
    {
      "cell_type": "markdown",
      "metadata": {
        "id": "XsVkdNaNF82J"
      },
      "source": [
        "**Phys-health-interview**"
      ],
      "id": "XsVkdNaNF82J"
    },
    {
      "cell_type": "code",
      "metadata": {
        "colab": {
          "base_uri": "https://localhost:8080/",
          "height": 373
        },
        "id": "dkHGU8YuGJ5W",
        "outputId": "bf45e38c-e25f-4c19-dc2a-a8e89a76fc99"
      },
      "source": [
        "plt.figure(figsize = (10,6))\n",
        "value = data['phys_health_interview'].value_counts()\n",
        "plt.title('Bring up a physical health issue with a potential employer in an interview?')\n",
        "plt.pie(value, autopct = '%0.02f', labels=  ['Some of them', 'No', 'Yes'], startangle = 90, shadow = True)\n",
        "plt.show()"
      ],
      "id": "dkHGU8YuGJ5W",
      "execution_count": 53,
      "outputs": [
        {
          "output_type": "display_data",
          "data": {
            "image/png": "[encoded data removed]",
            "text/plain": [
              "<Figure size 720x432 with 1 Axes>"
            ]
          },
          "metadata": {
            "tags": []
          }
        }
      ]
    },
    {
      "cell_type": "markdown",
      "metadata": {
        "id": "1uYtjhGYGb-2"
      },
      "source": [
        "**Mental- Vs - Physical health**"
      ],
      "id": "1uYtjhGYGb-2"
    },
    {
      "cell_type": "code",
      "metadata": {
        "colab": {
          "base_uri": "https://localhost:8080/",
          "height": 373
        },
        "id": "7LgSG26TGlCO",
        "outputId": "f517e409-46e2-43cd-dbd5-b4f00c4181e9"
      },
      "source": [
        "plt.figure(figsize = (10,6))\n",
        "value = data['mental_vs_physical'].value_counts()\n",
        "plt.title('Feel that  employer takes mental health as seriously as physical health?')\n",
        "plt.pie(value, autopct = '%0.02f', labels=  ['Don\\'t know', 'Yes', 'No'], startangle = 90, shadow = True)\n",
        "plt.show()"
      ],
      "id": "7LgSG26TGlCO",
      "execution_count": 54,
      "outputs": [
        {
          "output_type": "display_data",
          "data": {
            "image/png": "[encoded data removed]",
            "text/plain": [
              "<Figure size 720x432 with 1 Axes>"
            ]
          },
          "metadata": {
            "tags": []
          }
        }
      ]
    },
    {
      "cell_type": "markdown",
      "metadata": {
        "id": "Ja_653EtG0FW"
      },
      "source": [
        "**Observation of Consequence**"
      ],
      "id": "Ja_653EtG0FW"
    },
    {
      "cell_type": "code",
      "metadata": {
        "colab": {
          "base_uri": "https://localhost:8080/",
          "height": 373
        },
        "id": "ygzi8U01G5SC",
        "outputId": "98053042-376d-4193-9bf7-9c16a38814de"
      },
      "source": [
        "plt.figure(figsize = (10,6))\n",
        "value = data['obs_consequence'].value_counts()\n",
        "plt.title('Ever heard of or observed negative consequences for coworkers with mental health conditions in your workplace?')\n",
        "plt.pie(value, autopct = '%0.02f', labels=  ['No', 'Yes'], startangle = 90, shadow = True)\n",
        "plt.show()"
      ],
      "id": "ygzi8U01G5SC",
      "execution_count": 55,
      "outputs": [
        {
          "output_type": "display_data",
          "data": {
            "image/png": "[encoded data removed]",
            "text/plain": [
              "<Figure size 720x432 with 1 Axes>"
            ]
          },
          "metadata": {
            "tags": []
          }
        }
      ]
    },
    {
      "cell_type": "markdown",
      "metadata": {
        "id": "2g3byipIHRab"
      },
      "source": [
        "# **End of the Data processing of Mental Health in Tech Survey Thank you**"
      ],
      "id": "2g3byipIHRab"
    }
  ]
}